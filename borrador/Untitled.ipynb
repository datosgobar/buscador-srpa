{
 "cells": [
  {
   "cell_type": "code",
   "execution_count": 4,
   "metadata": {
    "collapsed": true
   },
   "outputs": [],
   "source": [
    "from elasticsearch import Elasticsearch\n",
    "from datetime import datetime"
   ]
  },
  {
   "cell_type": "code",
   "execution_count": 2,
   "metadata": {
    "collapsed": true
   },
   "outputs": [],
   "source": [
    "es = Elasticsearch()\n"
   ]
  },
  {
   "cell_type": "code",
   "execution_count": 5,
   "metadata": {
    "collapsed": false
   },
   "outputs": [
    {
     "name": "stderr",
     "output_type": "stream",
     "text": [
      "WARNING:elasticsearch:PUT http://localhost:9200/test-index/tweet/1 [status:N/A request:0.001s]\n",
      "Traceback (most recent call last):\n",
      "  File \"/usr/local/lib/python2.7/dist-packages/elasticsearch/connection/http_urllib3.py\", line 94, in perform_request\n",
      "    response = self.pool.urlopen(method, url, body, retries=False, headers=self.headers, **kw)\n",
      "  File \"/usr/local/lib/python2.7/dist-packages/urllib3/connectionpool.py\", line 608, in urlopen\n",
      "    _stacktrace=sys.exc_info()[2])\n",
      "  File \"/usr/local/lib/python2.7/dist-packages/urllib3/util/retry.py\", line 224, in increment\n",
      "    raise six.reraise(type(error), error, _stacktrace)\n",
      "  File \"/usr/local/lib/python2.7/dist-packages/urllib3/connectionpool.py\", line 558, in urlopen\n",
      "    body=body, headers=headers)\n",
      "  File \"/usr/local/lib/python2.7/dist-packages/urllib3/connectionpool.py\", line 353, in _make_request\n",
      "    conn.request(method, url, **httplib_request_kw)\n",
      "  File \"/usr/lib/python2.7/httplib.py\", line 1057, in request\n",
      "    self._send_request(method, url, body, headers)\n",
      "  File \"/usr/lib/python2.7/httplib.py\", line 1097, in _send_request\n",
      "    self.endheaders(body)\n",
      "  File \"/usr/lib/python2.7/httplib.py\", line 1053, in endheaders\n",
      "    self._send_output(message_body)\n",
      "  File \"/usr/lib/python2.7/httplib.py\", line 897, in _send_output\n",
      "    self.send(msg)\n",
      "  File \"/usr/lib/python2.7/httplib.py\", line 859, in send\n",
      "    self.connect()\n",
      "  File \"/usr/local/lib/python2.7/dist-packages/urllib3/connection.py\", line 162, in connect\n",
      "    conn = self._new_conn()\n",
      "  File \"/usr/local/lib/python2.7/dist-packages/urllib3/connection.py\", line 146, in _new_conn\n",
      "    self, \"Failed to establish a new connection: %s\" % e)\n",
      "NewConnectionError: <urllib3.connection.HTTPConnection object at 0x7fe88c618690>: Failed to establish a new connection: [Errno 111] Connection refused\n",
      "WARNING:elasticsearch:PUT http://localhost:9200/test-index/tweet/1 [status:N/A request:0.000s]\n",
      "Traceback (most recent call last):\n",
      "  File \"/usr/local/lib/python2.7/dist-packages/elasticsearch/connection/http_urllib3.py\", line 94, in perform_request\n",
      "    response = self.pool.urlopen(method, url, body, retries=False, headers=self.headers, **kw)\n",
      "  File \"/usr/local/lib/python2.7/dist-packages/urllib3/connectionpool.py\", line 608, in urlopen\n",
      "    _stacktrace=sys.exc_info()[2])\n",
      "  File \"/usr/local/lib/python2.7/dist-packages/urllib3/util/retry.py\", line 224, in increment\n",
      "    raise six.reraise(type(error), error, _stacktrace)\n",
      "  File \"/usr/local/lib/python2.7/dist-packages/urllib3/connectionpool.py\", line 558, in urlopen\n",
      "    body=body, headers=headers)\n",
      "  File \"/usr/local/lib/python2.7/dist-packages/urllib3/connectionpool.py\", line 353, in _make_request\n",
      "    conn.request(method, url, **httplib_request_kw)\n",
      "  File \"/usr/lib/python2.7/httplib.py\", line 1057, in request\n",
      "    self._send_request(method, url, body, headers)\n",
      "  File \"/usr/lib/python2.7/httplib.py\", line 1097, in _send_request\n",
      "    self.endheaders(body)\n",
      "  File \"/usr/lib/python2.7/httplib.py\", line 1053, in endheaders\n",
      "    self._send_output(message_body)\n",
      "  File \"/usr/lib/python2.7/httplib.py\", line 897, in _send_output\n",
      "    self.send(msg)\n",
      "  File \"/usr/lib/python2.7/httplib.py\", line 859, in send\n",
      "    self.connect()\n",
      "  File \"/usr/local/lib/python2.7/dist-packages/urllib3/connection.py\", line 162, in connect\n",
      "    conn = self._new_conn()\n",
      "  File \"/usr/local/lib/python2.7/dist-packages/urllib3/connection.py\", line 146, in _new_conn\n",
      "    self, \"Failed to establish a new connection: %s\" % e)\n",
      "NewConnectionError: <urllib3.connection.HTTPConnection object at 0x7fe88c618650>: Failed to establish a new connection: [Errno 111] Connection refused\n",
      "WARNING:elasticsearch:PUT http://localhost:9200/test-index/tweet/1 [status:N/A request:0.000s]\n",
      "Traceback (most recent call last):\n",
      "  File \"/usr/local/lib/python2.7/dist-packages/elasticsearch/connection/http_urllib3.py\", line 94, in perform_request\n",
      "    response = self.pool.urlopen(method, url, body, retries=False, headers=self.headers, **kw)\n",
      "  File \"/usr/local/lib/python2.7/dist-packages/urllib3/connectionpool.py\", line 608, in urlopen\n",
      "    _stacktrace=sys.exc_info()[2])\n",
      "  File \"/usr/local/lib/python2.7/dist-packages/urllib3/util/retry.py\", line 224, in increment\n",
      "    raise six.reraise(type(error), error, _stacktrace)\n",
      "  File \"/usr/local/lib/python2.7/dist-packages/urllib3/connectionpool.py\", line 558, in urlopen\n",
      "    body=body, headers=headers)\n",
      "  File \"/usr/local/lib/python2.7/dist-packages/urllib3/connectionpool.py\", line 353, in _make_request\n",
      "    conn.request(method, url, **httplib_request_kw)\n",
      "  File \"/usr/lib/python2.7/httplib.py\", line 1057, in request\n",
      "    self._send_request(method, url, body, headers)\n",
      "  File \"/usr/lib/python2.7/httplib.py\", line 1097, in _send_request\n",
      "    self.endheaders(body)\n",
      "  File \"/usr/lib/python2.7/httplib.py\", line 1053, in endheaders\n",
      "    self._send_output(message_body)\n",
      "  File \"/usr/lib/python2.7/httplib.py\", line 897, in _send_output\n",
      "    self.send(msg)\n",
      "  File \"/usr/lib/python2.7/httplib.py\", line 859, in send\n",
      "    self.connect()\n",
      "  File \"/usr/local/lib/python2.7/dist-packages/urllib3/connection.py\", line 162, in connect\n",
      "    conn = self._new_conn()\n",
      "  File \"/usr/local/lib/python2.7/dist-packages/urllib3/connection.py\", line 146, in _new_conn\n",
      "    self, \"Failed to establish a new connection: %s\" % e)\n",
      "NewConnectionError: <urllib3.connection.HTTPConnection object at 0x7fe88c618690>: Failed to establish a new connection: [Errno 111] Connection refused\n",
      "WARNING:elasticsearch:PUT http://localhost:9200/test-index/tweet/1 [status:N/A request:0.000s]\n",
      "Traceback (most recent call last):\n",
      "  File \"/usr/local/lib/python2.7/dist-packages/elasticsearch/connection/http_urllib3.py\", line 94, in perform_request\n",
      "    response = self.pool.urlopen(method, url, body, retries=False, headers=self.headers, **kw)\n",
      "  File \"/usr/local/lib/python2.7/dist-packages/urllib3/connectionpool.py\", line 608, in urlopen\n",
      "    _stacktrace=sys.exc_info()[2])\n",
      "  File \"/usr/local/lib/python2.7/dist-packages/urllib3/util/retry.py\", line 224, in increment\n",
      "    raise six.reraise(type(error), error, _stacktrace)\n",
      "  File \"/usr/local/lib/python2.7/dist-packages/urllib3/connectionpool.py\", line 558, in urlopen\n",
      "    body=body, headers=headers)\n",
      "  File \"/usr/local/lib/python2.7/dist-packages/urllib3/connectionpool.py\", line 353, in _make_request\n",
      "    conn.request(method, url, **httplib_request_kw)\n",
      "  File \"/usr/lib/python2.7/httplib.py\", line 1057, in request\n",
      "    self._send_request(method, url, body, headers)\n",
      "  File \"/usr/lib/python2.7/httplib.py\", line 1097, in _send_request\n",
      "    self.endheaders(body)\n",
      "  File \"/usr/lib/python2.7/httplib.py\", line 1053, in endheaders\n",
      "    self._send_output(message_body)\n",
      "  File \"/usr/lib/python2.7/httplib.py\", line 897, in _send_output\n",
      "    self.send(msg)\n",
      "  File \"/usr/lib/python2.7/httplib.py\", line 859, in send\n",
      "    self.connect()\n",
      "  File \"/usr/local/lib/python2.7/dist-packages/urllib3/connection.py\", line 162, in connect\n",
      "    conn = self._new_conn()\n",
      "  File \"/usr/local/lib/python2.7/dist-packages/urllib3/connection.py\", line 146, in _new_conn\n",
      "    self, \"Failed to establish a new connection: %s\" % e)\n",
      "NewConnectionError: <urllib3.connection.HTTPConnection object at 0x7fe88c618650>: Failed to establish a new connection: [Errno 111] Connection refused\n"
     ]
    },
    {
     "ename": "ConnectionError",
     "evalue": "ConnectionError(<urllib3.connection.HTTPConnection object at 0x7fe88c618650>: Failed to establish a new connection: [Errno 111] Connection refused) caused by: NewConnectionError(<urllib3.connection.HTTPConnection object at 0x7fe88c618650>: Failed to establish a new connection: [Errno 111] Connection refused)",
     "output_type": "error",
     "traceback": [
      "\u001b[1;31m---------------------------------------------------------------------------\u001b[0m",
      "\u001b[1;31mConnectionError\u001b[0m                           Traceback (most recent call last)",
      "\u001b[1;32m<ipython-input-5-1ba177ee65ee>\u001b[0m in \u001b[0;36m<module>\u001b[1;34m()\u001b[0m\n\u001b[0;32m      4\u001b[0m     \u001b[1;34m'timestamp'\u001b[0m\u001b[1;33m:\u001b[0m \u001b[0mdatetime\u001b[0m\u001b[1;33m.\u001b[0m\u001b[0mnow\u001b[0m\u001b[1;33m(\u001b[0m\u001b[1;33m)\u001b[0m\u001b[1;33m,\u001b[0m\u001b[1;33m\u001b[0m\u001b[0m\n\u001b[0;32m      5\u001b[0m }\n\u001b[1;32m----> 6\u001b[1;33m \u001b[0mres\u001b[0m \u001b[1;33m=\u001b[0m \u001b[0mes\u001b[0m\u001b[1;33m.\u001b[0m\u001b[0mindex\u001b[0m\u001b[1;33m(\u001b[0m\u001b[0mindex\u001b[0m\u001b[1;33m=\u001b[0m\u001b[1;34m\"test-index\"\u001b[0m\u001b[1;33m,\u001b[0m \u001b[0mdoc_type\u001b[0m\u001b[1;33m=\u001b[0m\u001b[1;34m'tweet'\u001b[0m\u001b[1;33m,\u001b[0m \u001b[0mid\u001b[0m\u001b[1;33m=\u001b[0m\u001b[1;36m1\u001b[0m\u001b[1;33m,\u001b[0m \u001b[0mbody\u001b[0m\u001b[1;33m=\u001b[0m\u001b[0mdoc\u001b[0m\u001b[1;33m)\u001b[0m\u001b[1;33m\u001b[0m\u001b[0m\n\u001b[0m",
      "\u001b[1;32m/usr/local/lib/python2.7/dist-packages/elasticsearch/client/utils.pyc\u001b[0m in \u001b[0;36m_wrapped\u001b[1;34m(*args, **kwargs)\u001b[0m\n\u001b[0;32m     67\u001b[0m                 \u001b[1;32mif\u001b[0m \u001b[0mp\u001b[0m \u001b[1;32min\u001b[0m \u001b[0mkwargs\u001b[0m\u001b[1;33m:\u001b[0m\u001b[1;33m\u001b[0m\u001b[0m\n\u001b[0;32m     68\u001b[0m                     \u001b[0mparams\u001b[0m\u001b[1;33m[\u001b[0m\u001b[0mp\u001b[0m\u001b[1;33m]\u001b[0m \u001b[1;33m=\u001b[0m \u001b[0mkwargs\u001b[0m\u001b[1;33m.\u001b[0m\u001b[0mpop\u001b[0m\u001b[1;33m(\u001b[0m\u001b[0mp\u001b[0m\u001b[1;33m)\u001b[0m\u001b[1;33m\u001b[0m\u001b[0m\n\u001b[1;32m---> 69\u001b[1;33m             \u001b[1;32mreturn\u001b[0m \u001b[0mfunc\u001b[0m\u001b[1;33m(\u001b[0m\u001b[1;33m*\u001b[0m\u001b[0margs\u001b[0m\u001b[1;33m,\u001b[0m \u001b[0mparams\u001b[0m\u001b[1;33m=\u001b[0m\u001b[0mparams\u001b[0m\u001b[1;33m,\u001b[0m \u001b[1;33m**\u001b[0m\u001b[0mkwargs\u001b[0m\u001b[1;33m)\u001b[0m\u001b[1;33m\u001b[0m\u001b[0m\n\u001b[0m\u001b[0;32m     70\u001b[0m         \u001b[1;32mreturn\u001b[0m \u001b[0m_wrapped\u001b[0m\u001b[1;33m\u001b[0m\u001b[0m\n\u001b[0;32m     71\u001b[0m     \u001b[1;32mreturn\u001b[0m \u001b[0m_wrapper\u001b[0m\u001b[1;33m\u001b[0m\u001b[0m\n",
      "\u001b[1;32m/usr/local/lib/python2.7/dist-packages/elasticsearch/client/__init__.pyc\u001b[0m in \u001b[0;36mindex\u001b[1;34m(self, index, doc_type, body, id, params)\u001b[0m\n\u001b[0;32m    277\u001b[0m                 \u001b[1;32mraise\u001b[0m \u001b[0mValueError\u001b[0m\u001b[1;33m(\u001b[0m\u001b[1;34m\"Empty value passed for a required argument.\"\u001b[0m\u001b[1;33m)\u001b[0m\u001b[1;33m\u001b[0m\u001b[0m\n\u001b[0;32m    278\u001b[0m         return self.transport.perform_request('POST' if id in SKIP_IN_PATH else 'PUT',\n\u001b[1;32m--> 279\u001b[1;33m             _make_path(index, doc_type, id), params=params, body=body)\n\u001b[0m\u001b[0;32m    280\u001b[0m \u001b[1;33m\u001b[0m\u001b[0m\n\u001b[0;32m    281\u001b[0m     \u001b[1;33m@\u001b[0m\u001b[0mquery_params\u001b[0m\u001b[1;33m(\u001b[0m\u001b[1;34m'parent'\u001b[0m\u001b[1;33m,\u001b[0m \u001b[1;34m'preference'\u001b[0m\u001b[1;33m,\u001b[0m \u001b[1;34m'realtime'\u001b[0m\u001b[1;33m,\u001b[0m \u001b[1;34m'refresh'\u001b[0m\u001b[1;33m,\u001b[0m \u001b[1;34m'routing'\u001b[0m\u001b[1;33m)\u001b[0m\u001b[1;33m\u001b[0m\u001b[0m\n",
      "\u001b[1;32m/usr/local/lib/python2.7/dist-packages/elasticsearch/transport.pyc\u001b[0m in \u001b[0;36mperform_request\u001b[1;34m(self, method, url, params, body)\u001b[0m\n\u001b[0;32m    325\u001b[0m \u001b[1;33m\u001b[0m\u001b[0m\n\u001b[0;32m    326\u001b[0m             \u001b[1;32mtry\u001b[0m\u001b[1;33m:\u001b[0m\u001b[1;33m\u001b[0m\u001b[0m\n\u001b[1;32m--> 327\u001b[1;33m                 \u001b[0mstatus\u001b[0m\u001b[1;33m,\u001b[0m \u001b[0mheaders\u001b[0m\u001b[1;33m,\u001b[0m \u001b[0mdata\u001b[0m \u001b[1;33m=\u001b[0m \u001b[0mconnection\u001b[0m\u001b[1;33m.\u001b[0m\u001b[0mperform_request\u001b[0m\u001b[1;33m(\u001b[0m\u001b[0mmethod\u001b[0m\u001b[1;33m,\u001b[0m \u001b[0murl\u001b[0m\u001b[1;33m,\u001b[0m \u001b[0mparams\u001b[0m\u001b[1;33m,\u001b[0m \u001b[0mbody\u001b[0m\u001b[1;33m,\u001b[0m \u001b[0mignore\u001b[0m\u001b[1;33m=\u001b[0m\u001b[0mignore\u001b[0m\u001b[1;33m,\u001b[0m \u001b[0mtimeout\u001b[0m\u001b[1;33m=\u001b[0m\u001b[0mtimeout\u001b[0m\u001b[1;33m)\u001b[0m\u001b[1;33m\u001b[0m\u001b[0m\n\u001b[0m\u001b[0;32m    328\u001b[0m \u001b[1;33m\u001b[0m\u001b[0m\n\u001b[0;32m    329\u001b[0m             \u001b[1;32mexcept\u001b[0m \u001b[0mTransportError\u001b[0m \u001b[1;32mas\u001b[0m \u001b[0me\u001b[0m\u001b[1;33m:\u001b[0m\u001b[1;33m\u001b[0m\u001b[0m\n",
      "\u001b[1;32m/usr/local/lib/python2.7/dist-packages/elasticsearch/connection/http_urllib3.pyc\u001b[0m in \u001b[0;36mperform_request\u001b[1;34m(self, method, url, params, body, timeout, ignore)\u001b[0m\n\u001b[0;32m    103\u001b[0m         \u001b[1;32mexcept\u001b[0m \u001b[0mException\u001b[0m \u001b[1;32mas\u001b[0m \u001b[0me\u001b[0m\u001b[1;33m:\u001b[0m\u001b[1;33m\u001b[0m\u001b[0m\n\u001b[0;32m    104\u001b[0m             \u001b[0mself\u001b[0m\u001b[1;33m.\u001b[0m\u001b[0mlog_request_fail\u001b[0m\u001b[1;33m(\u001b[0m\u001b[0mmethod\u001b[0m\u001b[1;33m,\u001b[0m \u001b[0mfull_url\u001b[0m\u001b[1;33m,\u001b[0m \u001b[0mbody\u001b[0m\u001b[1;33m,\u001b[0m \u001b[0mtime\u001b[0m\u001b[1;33m.\u001b[0m\u001b[0mtime\u001b[0m\u001b[1;33m(\u001b[0m\u001b[1;33m)\u001b[0m \u001b[1;33m-\u001b[0m \u001b[0mstart\u001b[0m\u001b[1;33m,\u001b[0m \u001b[0mexception\u001b[0m\u001b[1;33m=\u001b[0m\u001b[0me\u001b[0m\u001b[1;33m)\u001b[0m\u001b[1;33m\u001b[0m\u001b[0m\n\u001b[1;32m--> 105\u001b[1;33m             \u001b[1;32mraise\u001b[0m \u001b[0mConnectionError\u001b[0m\u001b[1;33m(\u001b[0m\u001b[1;34m'N/A'\u001b[0m\u001b[1;33m,\u001b[0m \u001b[0mstr\u001b[0m\u001b[1;33m(\u001b[0m\u001b[0me\u001b[0m\u001b[1;33m)\u001b[0m\u001b[1;33m,\u001b[0m \u001b[0me\u001b[0m\u001b[1;33m)\u001b[0m\u001b[1;33m\u001b[0m\u001b[0m\n\u001b[0m\u001b[0;32m    106\u001b[0m \u001b[1;33m\u001b[0m\u001b[0m\n\u001b[0;32m    107\u001b[0m         \u001b[1;32mif\u001b[0m \u001b[1;32mnot\u001b[0m \u001b[1;33m(\u001b[0m\u001b[1;36m200\u001b[0m \u001b[1;33m<=\u001b[0m \u001b[0mresponse\u001b[0m\u001b[1;33m.\u001b[0m\u001b[0mstatus\u001b[0m \u001b[1;33m<\u001b[0m \u001b[1;36m300\u001b[0m\u001b[1;33m)\u001b[0m \u001b[1;32mand\u001b[0m \u001b[0mresponse\u001b[0m\u001b[1;33m.\u001b[0m\u001b[0mstatus\u001b[0m \u001b[1;32mnot\u001b[0m \u001b[1;32min\u001b[0m \u001b[0mignore\u001b[0m\u001b[1;33m:\u001b[0m\u001b[1;33m\u001b[0m\u001b[0m\n",
      "\u001b[1;31mConnectionError\u001b[0m: ConnectionError(<urllib3.connection.HTTPConnection object at 0x7fe88c618650>: Failed to establish a new connection: [Errno 111] Connection refused) caused by: NewConnectionError(<urllib3.connection.HTTPConnection object at 0x7fe88c618650>: Failed to establish a new connection: [Errno 111] Connection refused)"
     ]
    }
   ],
   "source": [
    "doc = {\n",
    "    'author': 'kimchy',\n",
    "    'text': 'Elasticsearch: cool. bonsai cool.',\n",
    "    'timestamp': datetime.now(),\n",
    "}\n",
    "res = es.index(index=\"test-index\", doc_type='tweet', id=1, body=doc)"
   ]
  },
  {
   "cell_type": "code",
   "execution_count": null,
   "metadata": {
    "collapsed": true
   },
   "outputs": [],
   "source": []
  }
 ],
 "metadata": {
  "kernelspec": {
   "display_name": "Python 2",
   "language": "python",
   "name": "python2"
  },
  "language_info": {
   "codemirror_mode": {
    "name": "ipython",
    "version": 2
   },
   "file_extension": ".py",
   "mimetype": "text/x-python",
   "name": "python",
   "nbconvert_exporter": "python",
   "pygments_lexer": "ipython2",
   "version": "2.7.12"
  }
 },
 "nbformat": 4,
 "nbformat_minor": 0
}
