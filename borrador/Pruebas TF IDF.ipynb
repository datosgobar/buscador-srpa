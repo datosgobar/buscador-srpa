{
 "cells": [
  {
   "cell_type": "code",
   "execution_count": 1,
   "metadata": {
    "collapsed": true
   },
   "outputs": [],
   "source": [
    "from sklearn.feature_extraction.text import TfidfVectorizer\n",
    "from sklearn.linear_model import SGDClassifier\n",
    "from sklearn.pipeline import Pipeline\n",
    "from sklearn import cross_validation\n",
    "from sklearn.svm import LinearSVC\n",
    "from sklearn.neighbors import NearestNeighbors\n",
    "from sklearn.metrics.pairwise import pairwise_distances\n",
    "import os"
   ]
  },
  {
   "cell_type": "code",
   "execution_count": 89,
   "metadata": {
    "collapsed": true
   },
   "outputs": [],
   "source": [
    "import sqlite3\n"
   ]
  },
  {
   "cell_type": "code",
   "execution_count": 117,
   "metadata": {
    "collapsed": false
   },
   "outputs": [
    {
     "name": "stdout",
     "output_type": "stream",
     "text": [
      "Using matplotlib backend: Qt4Agg\n"
     ]
    },
    {
     "name": "stderr",
     "output_type": "stream",
     "text": [
      "/usr/local/lib/python2.7/dist-packages/matplotlib/font_manager.py:273: UserWarning: Matplotlib is building the font cache using fc-list. This may take a moment.\n",
      "  warnings.warn('Matplotlib is building the font cache using fc-list. This may take a moment.')\n"
     ]
    }
   ],
   "source": [
    "import pandas as pd\n",
    "import numpy as np\n",
    "%matplotlib\n",
    "import matplotlib.pyplot as plt"
   ]
  },
  {
   "cell_type": "markdown",
   "metadata": {},
   "source": [
    "## Tests de performance.\n",
    "\n",
    "Cosas que probe: \n",
    "    - Norma l1: funciona mucho peor\n",
    "    - Sacar acentos: funciona casi igual, un poco peor\n",
    "    - unigramas vs bigramas no da nada muy diferente\n",
    " "
   ]
  },
  {
   "cell_type": "code",
   "execution_count": 108,
   "metadata": {
    "collapsed": false
   },
   "outputs": [
    {
     "ename": "NameError",
     "evalue": "name 'pd' is not defined",
     "output_type": "error",
     "traceback": [
      "\u001b[1;31m---------------------------------------------------------------------------\u001b[0m",
      "\u001b[1;31mNameError\u001b[0m                                 Traceback (most recent call last)",
      "\u001b[1;32m<ipython-input-108-97805888b6a8>\u001b[0m in \u001b[0;36m<module>\u001b[1;34m()\u001b[0m\n\u001b[0;32m      1\u001b[0m \u001b[1;31m# Cargar datos\u001b[0m\u001b[1;33m\u001b[0m\u001b[1;33m\u001b[0m\u001b[0m\n\u001b[1;32m----> 2\u001b[1;33m \u001b[0mdata\u001b[0m \u001b[1;33m=\u001b[0m \u001b[0mpd\u001b[0m\u001b[1;33m.\u001b[0m\u001b[0mread_excel\u001b[0m\u001b[1;33m(\u001b[0m\u001b[1;34m'Informe 93 - HCDN (Respuestas) (1) (1).xlsx'\u001b[0m\u001b[1;33m,\u001b[0m\u001b[0msheetname\u001b[0m\u001b[1;33m=\u001b[0m\u001b[1;34m'Respuestas de formulario 1'\u001b[0m\u001b[1;33m)\u001b[0m\u001b[1;33m\u001b[0m\u001b[0m\n\u001b[0m\u001b[0;32m      3\u001b[0m \u001b[0mES_stopwords\u001b[0m \u001b[1;33m=\u001b[0m \u001b[0mpd\u001b[0m\u001b[1;33m.\u001b[0m\u001b[0mread_csv\u001b[0m\u001b[1;33m(\u001b[0m\u001b[1;34m'ES_stopwords.txt'\u001b[0m\u001b[1;33m,\u001b[0m\u001b[0mheader\u001b[0m\u001b[1;33m=\u001b[0m\u001b[0mNone\u001b[0m\u001b[1;33m,\u001b[0m \u001b[0mencoding\u001b[0m\u001b[1;33m=\u001b[0m\u001b[1;34m'utf-8'\u001b[0m\u001b[1;33m)\u001b[0m\u001b[1;33m\u001b[0m\u001b[0m\n\u001b[0;32m      4\u001b[0m \u001b[0mES_stopwords\u001b[0m \u001b[1;33m=\u001b[0m \u001b[0mlist\u001b[0m\u001b[1;33m(\u001b[0m\u001b[0mnp\u001b[0m\u001b[1;33m.\u001b[0m\u001b[0msqueeze\u001b[0m\u001b[1;33m(\u001b[0m\u001b[0mES_stopwords\u001b[0m\u001b[1;33m.\u001b[0m\u001b[0mvalues\u001b[0m\u001b[1;33m)\u001b[0m\u001b[1;33m)\u001b[0m\u001b[1;33m\u001b[0m\u001b[0m\n\u001b[0;32m      5\u001b[0m \u001b[1;31m# Sacar las Pretuntas o temas vacios\u001b[0m\u001b[1;33m\u001b[0m\u001b[1;33m\u001b[0m\u001b[0m\n",
      "\u001b[1;31mNameError\u001b[0m: name 'pd' is not defined"
     ]
    }
   ],
   "source": [
    "# Cargar datos\n",
    "data = pd.read_excel('Informe 93 - HCDN (Respuestas) (1) (1).xlsx',sheetname='Respuestas de formulario 1')\n",
    "ES_stopwords = pd.read_csv('ES_stopwords.txt',header=None, encoding='utf-8')\n",
    "ES_stopwords = list(np.squeeze(ES_stopwords.values))\n",
    "# Sacar las Pretuntas o temas vacios\n",
    "gi = ~data.Tema.isnull()\n",
    "gi = gi & (~data.Pregunta.isnull())\n",
    "preguntas = data.Pregunta[gi]\n",
    "temas = data.Tema[gi]\n",
    "\n",
    "# Funcion para calcular la precision pero considerando las primeras N opciones\n",
    "def calculate_n_accuracy(X_test, y_test, svm, maxN):\n",
    "    correctas_capturadas = []\n",
    "    for N in range(1,maxN):\n",
    "        correctas = []\n",
    "        for test_row, tema in zip(X_test,y_test):\n",
    "            relevancia = np.squeeze(svm.decision_function(test_row))\n",
    "            prediccion = svm.predict(test_row)[0]\n",
    "            I = np.argsort(relevancia)\n",
    "            primerasN = svm.classes_[I[-N:]]\n",
    "            if tema in primerasN:\n",
    "                correctas.append(1)\n",
    "            else:\n",
    "                correctas.append(0)\n",
    "        correctas_capturadas.append(np.mean(correctas))\n",
    "    return correctas_capturadas"
   ]
  },
  {
   "cell_type": "markdown",
   "metadata": {},
   "source": [
    "### TF-IDF de palabras"
   ]
  },
  {
   "cell_type": "code",
   "execution_count": 87,
   "metadata": {
    "collapsed": false
   },
   "outputs": [
    {
     "name": "stdout",
     "output_type": "stream",
     "text": [
      "Score correctas: 0.486405\n"
     ]
    }
   ],
   "source": [
    "textvec_palabras = TfidfVectorizer(input='content', ngram_range=(1,1),  min_df=1,\n",
    "                                   norm='l2', stop_words=ES_stopwords)\n",
    "tfidf_mat = textvec_palabras.fit_transform(preguntas)\n",
    "X_train, X_test, y_train, y_test = cross_validation.train_test_split(\n",
    "                tfidf_mat, temas, test_size=0.5, random_state=0)\n",
    "svm = LinearSVC()\n",
    "svm.fit(X_train,y_train)\n",
    "print \"Score correctas: {:f}\".format(svm.score(X_test,y_test))\n",
    "y1 = calculate_n_accuracy(X_test, y_test, svm, maxN=10)\n"
   ]
  },
  {
   "cell_type": "code",
   "execution_count": 82,
   "metadata": {
    "collapsed": false
   },
   "outputs": [
    {
     "name": "stdout",
     "output_type": "stream",
     "text": [
      "Score correctas: 0.468278\n"
     ]
    }
   ],
   "source": [
    "textvec_bigramas = TfidfVectorizer(input='content', ngram_range=(1,3), min_df=2,\n",
    "                                   norm='l2', stop_words=ES_stopwords)\n",
    "tfidf_mat = textvec_bigramas.fit_transform(preguntas)\n",
    "X_train, X_test, y_train, y_test = cross_validation.train_test_split(\n",
    "                tfidf_mat, temas, test_size=0.5, random_state=0)\n",
    "svm = LinearSVC()\n",
    "svm.fit(X_train,y_train)\n",
    "print \"Score correctas: {:f}\".format(svm.score(X_test,y_test))\n",
    "y2 = calculate_n_accuracy(X_test, y_test, svm, maxN=10)\n"
   ]
  },
  {
   "cell_type": "code",
   "execution_count": 83,
   "metadata": {
    "collapsed": false
   },
   "outputs": [
    {
     "data": {
      "text/plain": [
       "<matplotlib.text.Text at 0x7f7d26cd9210>"
      ]
     },
     "execution_count": 83,
     "metadata": {},
     "output_type": "execute_result"
    }
   ],
   "source": [
    "# Plot curvas de ambos\n",
    "plt.plot(np.arange(1,len(y1)+1),y1)\n",
    "plt.plot(np.arange(1,len(y2)+1),y2)\n",
    "plt.xlabel('Primeras n opciones')\n",
    "plt.ylabel('Fraccion correctas')"
   ]
  },
  {
   "cell_type": "code",
   "execution_count": 3,
   "metadata": {
    "collapsed": false
   },
   "outputs": [],
   "source": [
    "archivos_excel =[unicode(archivo, 'utf') for archivo in os.listdir('.') if 'xlsx' in archivo]"
   ]
  },
  {
   "cell_type": "code",
   "execution_count": 4,
   "metadata": {
    "collapsed": false
   },
   "outputs": [],
   "source": [
    "all_dataframes = []\n",
    "for archivo in archivos_excel:\n",
    "    all_dataframes.append(pd.read_excel(archivo, sheetname='Respuestas de formulario 1'))\n",
    "all_questions = pd.concat([x.Pregunta for x in all_dataframes], keys=['94', '94FT','95', '93']).to_frame()\n"
   ]
  },
  {
   "cell_type": "code",
   "execution_count": 5,
   "metadata": {
    "collapsed": false
   },
   "outputs": [],
   "source": [
    "preg_cat = pd.read_excel('Informe 93 - HCDN (Respuestas) (1) (1).xlsx',sheetname='Respuestas de formulario 1')\n",
    "preg_cat = preg_cat.sortlevel(0)\n",
    "all_questions = all_questions.sortlevel(0)\n",
    "all_questions.loc['93','tema'] = preg_cat.Tema.values\n",
    "all_questions.dropna(subset=['Pregunta'], inplace=True)\n",
    "ES_stopwords = pd.read_csv('ES_stopwords.txt',header=None, encoding='utf-8')\n",
    "ES_stopwords = list(np.squeeze(ES_stopwords.values))\n",
    "all_questions.dropna(subset=['Pregunta'], inplace=True) # Sacar preguntas vacias\n",
    "longitud = all_questions.Pregunta.str.len()\n",
    "all_questions = all_questions.loc[longitud.sort_values().index[50:]] # Sacar preguntas demasiado cortas"
   ]
  },
  {
   "cell_type": "code",
   "execution_count": 95,
   "metadata": {
    "collapsed": false
   },
   "outputs": [],
   "source": [
    "preg_cat.index = preg_cat.index.astype('int64')"
   ]
  },
  {
   "cell_type": "code",
   "execution_count": 117,
   "metadata": {
    "collapsed": false
   },
   "outputs": [],
   "source": [
    "all_questions.loc['93','tema'] = preg_cat.Tema.values"
   ]
  },
  {
   "cell_type": "code",
   "execution_count": 121,
   "metadata": {
    "collapsed": false
   },
   "outputs": [
    {
     "data": {
      "text/html": [
       "<div>\n",
       "<table border=\"1\" class=\"dataframe\">\n",
       "  <thead>\n",
       "    <tr style=\"text-align: right;\">\n",
       "      <th></th>\n",
       "      <th>Autor de la Pregunta</th>\n",
       "      <th>Numero</th>\n",
       "      <th>Órgano requerido</th>\n",
       "      <th>Tema</th>\n",
       "      <th>Subtema</th>\n",
       "      <th>2 o mas Ministerios?</th>\n",
       "      <th>Justificación o contexto</th>\n",
       "      <th>Pregunta</th>\n",
       "    </tr>\n",
       "  </thead>\n",
       "  <tbody>\n",
       "    <tr>\n",
       "      <th>744</th>\n",
       "      <td>Interbloque Juntos Por Argentina</td>\n",
       "      <td>745.0</td>\n",
       "      <td>Ministerio de Turismo</td>\n",
       "      <td>EducaciónyDeportes</td>\n",
       "      <td>Programas educativos.</td>\n",
       "      <td>No</td>\n",
       "      <td>NaN</td>\n",
       "      <td>Qué medidas establecerá el Poder Ejecutivo par...</td>\n",
       "    </tr>\n",
       "    <tr>\n",
       "      <th>745</th>\n",
       "      <td>Interbloque Juntos Por Argentina</td>\n",
       "      <td>746.0</td>\n",
       "      <td>Ministerio de Turismo</td>\n",
       "      <td>Turismo</td>\n",
       "      <td>Política turística</td>\n",
       "      <td>No</td>\n",
       "      <td>NaN</td>\n",
       "      <td>Qué medidas adoptará el Poder Ejecutivo para m...</td>\n",
       "    </tr>\n",
       "    <tr>\n",
       "      <th>746</th>\n",
       "      <td>Interbloque Juntos Por Argentina</td>\n",
       "      <td>747.0</td>\n",
       "      <td>Ministerio de Justicia y Derechos Humanos</td>\n",
       "      <td>Turismo</td>\n",
       "      <td>Política turística</td>\n",
       "      <td>No</td>\n",
       "      <td>NaN</td>\n",
       "      <td>Qué medidas adoptará el Gobierno Nacional en l...</td>\n",
       "    </tr>\n",
       "    <tr>\n",
       "      <th>747</th>\n",
       "      <td>Interbloque Juntos Por Argentina</td>\n",
       "      <td>748.0</td>\n",
       "      <td>Concejo Nacional de Políticas Sociales</td>\n",
       "      <td>DesarrolloSocial</td>\n",
       "      <td>Género</td>\n",
       "      <td>No</td>\n",
       "      <td>NaN</td>\n",
       "      <td>Qué medidas adoptará el Gobierno Nacional para...</td>\n",
       "    </tr>\n",
       "    <tr>\n",
       "      <th>748</th>\n",
       "      <td>NaN</td>\n",
       "      <td>NaN</td>\n",
       "      <td>NaN</td>\n",
       "      <td>DesarrolloSocial</td>\n",
       "      <td>Género</td>\n",
       "      <td>NaN</td>\n",
       "      <td>NaN</td>\n",
       "      <td>NaN</td>\n",
       "    </tr>\n",
       "  </tbody>\n",
       "</table>\n",
       "</div>"
      ],
      "text/plain": [
       "                 Autor de la Pregunta  Numero  \\\n",
       "744  Interbloque Juntos Por Argentina   745.0   \n",
       "745  Interbloque Juntos Por Argentina   746.0   \n",
       "746  Interbloque Juntos Por Argentina   747.0   \n",
       "747  Interbloque Juntos Por Argentina   748.0   \n",
       "748                               NaN     NaN   \n",
       "\n",
       "                              Órgano requerido                Tema  \\\n",
       "744                      Ministerio de Turismo  EducaciónyDeportes   \n",
       "745                      Ministerio de Turismo            Turismo    \n",
       "746  Ministerio de Justicia y Derechos Humanos            Turismo    \n",
       "747     Concejo Nacional de Políticas Sociales   DesarrolloSocial    \n",
       "748                                        NaN   DesarrolloSocial    \n",
       "\n",
       "                   Subtema 2 o mas Ministerios? Justificación o contexto  \\\n",
       "744  Programas educativos.                   No                      NaN   \n",
       "745   Política turística                     No                      NaN   \n",
       "746   Política turística                     No                      NaN   \n",
       "747               Género                     No                      NaN   \n",
       "748               Género                    NaN                      NaN   \n",
       "\n",
       "                                              Pregunta  \n",
       "744  Qué medidas establecerá el Poder Ejecutivo par...  \n",
       "745  Qué medidas adoptará el Poder Ejecutivo para m...  \n",
       "746  Qué medidas adoptará el Gobierno Nacional en l...  \n",
       "747  Qué medidas adoptará el Gobierno Nacional para...  \n",
       "748                                                NaN  "
      ]
     },
     "execution_count": 121,
     "metadata": {},
     "output_type": "execute_result"
    }
   ],
   "source": [
    "preg_cat.tail()"
   ]
  },
  {
   "cell_type": "code",
   "execution_count": 8,
   "metadata": {
    "collapsed": false
   },
   "outputs": [],
   "source": [
    "textvec = TfidfVectorizer(input='content', strip_accents='ascii', norm='l2', stop_words=ES_stopwords, )\n",
    "preguntas = all_questions.Pregunta\n",
    "temas = all_questions.tema\n",
    "matriz = textvec.fit_transform(preguntas)\n",
    "#X_train, X_test, y_train, y_test = cross_validation.train_test_split(\n",
    "#            matriz_io_a, temas, test_size=0.5, random_state=0)"
   ]
  },
  {
   "cell_type": "code",
   "execution_count": null,
   "metadata": {
    "collapsed": true
   },
   "outputs": [],
   "source": [
    "distancias = "
   ]
  },
  {
   "cell_type": "code",
   "execution_count": 157,
   "metadata": {
    "collapsed": false
   },
   "outputs": [
    {
     "data": {
      "text/plain": [
       "LinearSVC(C=1.0, class_weight=None, dual=True, fit_intercept=True,\n",
       "     intercept_scaling=1, loss='squared_hinge', max_iter=1000,\n",
       "     multi_class='ovr', penalty='l2', random_state=None, tol=0.0001,\n",
       "     verbose=0)"
      ]
     },
     "execution_count": 157,
     "metadata": {},
     "output_type": "execute_result"
    }
   ],
   "source": [
    "svm = LinearSVC()\n",
    "i_tiene_tema = temas.notnull()\n",
    "svm.fit(matriz[i_tiene_tema.values.nonzero()], temas[i_tiene_tema].values)"
   ]
  },
  {
   "cell_type": "code",
   "execution_count": 193,
   "metadata": {
    "collapsed": false
   },
   "outputs": [
    {
     "data": {
      "text/plain": [
       "u'\\xbfEst\\xe1 previsto alg\\xfan tipo de incentivo tributario espec\\xedfico a la actividad productiva de la regi\\xf3n para tratar de compensar los mayores costos de transporte que se mantendr\\xe1n hasta tanto la nueva  infraestructura planificada se concrete?'"
      ]
     },
     "execution_count": 193,
     "metadata": {},
     "output_type": "execute_result"
    }
   ],
   "source": [
    "\n",
    "i = np.random.randint(0,len(all_questions))\n",
    "all_questions.iloc[i].Pregunta"
   ]
  },
  {
   "cell_type": "code",
   "execution_count": 174,
   "metadata": {
    "collapsed": false
   },
   "outputs": [],
   "source": [
    "# Sugerir primeras N \n",
    "relevancia = svm.decision_function(matriz[10])\n",
    "I = np.argsort(relevancia)\n",
    "N = 5\n",
    "primerasN = svm.classes_[I[0,-N:]]"
   ]
  },
  {
   "cell_type": "code",
   "execution_count": 175,
   "metadata": {
    "collapsed": false
   },
   "outputs": [
    {
     "data": {
      "text/plain": [
       "array([u'ObraP\\xfablica', u'Justicia ', u'Pol\\xedticaEcon\\xf3mica',\n",
       "       u'Empleo ', u'Energ\\xeda '], dtype=object)"
      ]
     },
     "execution_count": 175,
     "metadata": {},
     "output_type": "execute_result"
    }
   ],
   "source": []
  },
  {
   "cell_type": "code",
   "execution_count": 361,
   "metadata": {
    "collapsed": false,
    "run_control": {
     "marked": false
    }
   },
   "outputs": [],
   "source": [
    "svmGDC= SGDClassifier(loss='hinge', penalty='l2',\n",
    "                     alpha=1e-3, n_iter=5, random_state=42)\n",
    "\n"
   ]
  },
  {
   "cell_type": "code",
   "execution_count": 362,
   "metadata": {
    "collapsed": false
   },
   "outputs": [
    {
     "data": {
      "text/plain": [
       "LinearSVC(C=1.0, class_weight=None, dual=True, fit_intercept=True,\n",
       "     intercept_scaling=1, loss='squared_hinge', max_iter=1000,\n",
       "     multi_class='ovr', penalty='l2', random_state=None, tol=0.0001,\n",
       "     verbose=0)"
      ]
     },
     "execution_count": 362,
     "metadata": {},
     "output_type": "execute_result"
    }
   ],
   "source": [
    "svm.fit(X_train,y_train)"
   ]
  },
  {
   "cell_type": "code",
   "execution_count": 242,
   "metadata": {
    "collapsed": false,
    "run_control": {
     "marked": false
    }
   },
   "outputs": [
    {
     "data": {
      "text/plain": [
       "<Container object of 18 artists>"
      ]
     },
     "execution_count": 242,
     "metadata": {},
     "output_type": "execute_result"
    }
   ],
   "source": [
    "\n",
    "\n",
    "y = np.squeeze(svm.decision_function(X_test[0,:]))\n",
    "I = np.argsort(y)\n",
    "x = range(len(y))\n",
    "plt.bar(x,y)"
   ]
  },
  {
   "cell_type": "code",
   "execution_count": 363,
   "metadata": {
    "collapsed": false
   },
   "outputs": [
    {
     "data": {
      "text/plain": [
       "0.27190332326283989"
      ]
     },
     "execution_count": 363,
     "metadata": {},
     "output_type": "execute_result"
    }
   ],
   "source": [
    "svm.score(X_test,y_test)"
   ]
  },
  {
   "cell_type": "code",
   "execution_count": 234,
   "metadata": {
    "collapsed": false
   },
   "outputs": [],
   "source": [
    "svm.fit(X_train, y_train)\n",
    "predicted = svm.predict(X_test)"
   ]
  },
  {
   "cell_type": "code",
   "execution_count": 206,
   "metadata": {
    "collapsed": false
   },
   "outputs": [],
   "source": [
    "text_clf = Pipeline([('tfidf', TfidfVectorizer(input='content', strip_accents='ascii', norm='l2')),\n",
    "                     ('clf', SGDClassifier(loss='hinge', penalty='l2',\n",
    "                     alpha=1e-3, n_iter=5, random_state=42)),\n",
    "                    ])"
   ]
  },
  {
   "cell_type": "code",
   "execution_count": 280,
   "metadata": {
    "collapsed": false
   },
   "outputs": [],
   "source": [
    "correctas_capturadas = []\n",
    "for N in range(1,7):\n",
    "    correctas = []\n",
    "    for test_row, tema in zip(X_test,y_test):\n",
    "        relevancia = np.squeeze(svm.decision_function(test_row))\n",
    "        prediccion = svm.predict(test_row)[0]\n",
    "        I = np.argsort(relevancia)\n",
    "        primerasN = svm.classes_[I[-N:]]\n",
    "        if tema in primerasN:\n",
    "            correctas.append(1)\n",
    "        else:\n",
    "            correctas.append(0)\n",
    "    correctas_capturadas.append(np.mean(correctas))"
   ]
  },
  {
   "cell_type": "code",
   "execution_count": 281,
   "metadata": {
    "collapsed": false
   },
   "outputs": [
    {
     "data": {
      "text/plain": [
       "[<matplotlib.lines.Line2D at 0x7f2f346e9790>]"
      ]
     },
     "execution_count": 281,
     "metadata": {},
     "output_type": "execute_result"
    }
   ],
   "source": [
    "plt.plot(correctas_capturadas)"
   ]
  },
  {
   "cell_type": "code",
   "execution_count": 237,
   "metadata": {
    "collapsed": false
   },
   "outputs": [
    {
     "data": {
      "text/plain": [
       "array([u'Agroindustria ', u'CienciayTecnolog\\xeda ', u'Comunicaciones ',\n",
       "       u'Defensa ', u'DesarrolloSocial ', u'Educaci\\xf3nyDeportes',\n",
       "       u'Empleo ', u'Energ\\xeda ', u'Justicia ', u'Modernizaci\\xf3n ',\n",
       "       u'ObraP\\xfablica', u'Pol\\xedticaEcon\\xf3mica', u'Producci\\xf3n ',\n",
       "       u'RelacionesExteriores ', u'SEDRONAR ', u'Salud  ', u'Seguridad ',\n",
       "       u'Transporte '], dtype=object)"
      ]
     },
     "execution_count": 237,
     "metadata": {},
     "output_type": "execute_result"
    }
   ],
   "source": [
    "svm.classes_"
   ]
  },
  {
   "cell_type": "code",
   "execution_count": 208,
   "metadata": {
    "collapsed": false
   },
   "outputs": [],
   "source": [
    "t = matriz[0,:].toarray()\n",
    "I = np.squeeze(np.argsort(t,))"
   ]
  },
  {
   "cell_type": "code",
   "execution_count": 209,
   "metadata": {
    "collapsed": false
   },
   "outputs": [
    {
     "data": {
      "text/plain": [
       "array([u'enargas', u'esfuerzo', u'consolidacion', u'universo', u'merituar',\n",
       "       u'determinadas', u'invertido', u'recaudado', u'cuyana', u'cuanto',\n",
       "       u'san', u'fondo', u'luis', u'usuarios', u'ni', u'obras',\n",
       "       u'provincia', u'de', u'focegas', u'distribuidora'], \n",
       "      dtype='<U20')"
      ]
     },
     "execution_count": 209,
     "metadata": {},
     "output_type": "execute_result"
    }
   ],
   "source": [
    "\n",
    "tokens = np.array(textvec.get_feature_names())\n",
    "tokens[I[-20:]]"
   ]
  },
  {
   "cell_type": "code",
   "execution_count": 164,
   "metadata": {
    "collapsed": false
   },
   "outputs": [
    {
     "name": "stdout",
     "output_type": "stream",
     "text": [
      "a)\tImporte total transferido desde dicha fecha hasta la actualidad por aplicación de aquellas, especificando el incremento producido en las transferencias diarias por cumplimiento de las resoluciones de la Corte Suprema de Justicia de la Nación.\n",
      "b)\tEstado de cumplimiento de las sentencias, en cuanto condenaron al Estado Nacional a pagar a la Provincia de San Luis las cantidades detraídas -con anterioridad al dictado de las mismas- en virtud de las normas impugnadas, con más sus intereses informando, en su caso, si se han determinado los montos y modalidades de pago e informando sobre tal punto.\n"
     ]
    }
   ],
   "source": [
    "print(preguntas[2])"
   ]
  },
  {
   "cell_type": "code",
   "execution_count": 282,
   "metadata": {
    "collapsed": false
   },
   "outputs": [
    {
     "data": {
      "text/plain": [
       "75"
      ]
     },
     "execution_count": 282,
     "metadata": {},
     "output_type": "execute_result"
    }
   ],
   "source": [
    "len(preg_cat.Subtema.unique())"
   ]
  },
  {
   "cell_type": "code",
   "execution_count": 283,
   "metadata": {
    "collapsed": false
   },
   "outputs": [
    {
     "data": {
      "text/plain": [
       "8.0"
      ]
     },
     "execution_count": 283,
     "metadata": {},
     "output_type": "execute_result"
    }
   ],
   "source": [
    "600./75"
   ]
  },
  {
   "cell_type": "code",
   "execution_count": 306,
   "metadata": {
    "collapsed": false
   },
   "outputs": [],
   "source": [
    "suma = np.squeeze(matriz.power(2).sum(axis=1)).T"
   ]
  },
  {
   "cell_type": "code",
   "execution_count": 9,
   "metadata": {
    "collapsed": false
   },
   "outputs": [],
   "source": [
    "D = pairwise_distances(matriz)\n"
   ]
  },
  {
   "cell_type": "code",
   "execution_count": 10,
   "metadata": {
    "collapsed": false
   },
   "outputs": [
    {
     "data": {
      "text/plain": [
       "<matplotlib.image.AxesImage at 0x7f1c0431e690>"
      ]
     },
     "execution_count": 10,
     "metadata": {},
     "output_type": "execute_result"
    }
   ],
   "source": [
    "plt.matshow(D)"
   ]
  },
  {
   "cell_type": "code",
   "execution_count": 316,
   "metadata": {
    "collapsed": true
   },
   "outputs": [],
   "source": [
    "import scipy.cluster.hierarchy as sch\n",
    "\n"
   ]
  },
  {
   "cell_type": "code",
   "execution_count": 317,
   "metadata": {
    "collapsed": false
   },
   "outputs": [],
   "source": [
    "Y = sch.linkage(D, method='centroid')\n",
    "Z = sch.dendrogram(Y, orientation='right')\n",
    "index = Z['leaves']\n",
    "D = D[index,:]\n",
    "D = D[:,index]"
   ]
  },
  {
   "cell_type": "code",
   "execution_count": 338,
   "metadata": {
    "collapsed": false
   },
   "outputs": [],
   "source": [
    "D[D==0] = 100\n",
    "i,j = np.unravel_index(np.argmin(D),D.shape)"
   ]
  },
  {
   "cell_type": "code",
   "execution_count": 19,
   "metadata": {
    "collapsed": false
   },
   "outputs": [],
   "source": [
    "cercanas = np.argsort(D[14])[:4]"
   ]
  },
  {
   "cell_type": "code",
   "execution_count": 21,
   "metadata": {
    "collapsed": false
   },
   "outputs": [
    {
     "data": {
      "text/plain": [
       "Pregunta    ¿Se esperan más aumentos en los servicios públ...\n",
       "tema                                                      NaN\n",
       "Name: (94, 14), dtype: object"
      ]
     },
     "execution_count": 21,
     "metadata": {},
     "output_type": "execute_result"
    }
   ],
   "source": [
    "all_questions.iloc[14]"
   ]
  },
  {
   "cell_type": "code",
   "execution_count": 23,
   "metadata": {
    "collapsed": false
   },
   "outputs": [
    {
     "data": {
      "text/plain": [
       "94    14     ¿Se esperan más aumentos en los servicios públ...\n",
       "94FT  325    Con respecto a las tarifas, el Ministro Arangu...\n",
       "95    431    ¿Podría detallarlas por concepto y jurisdicció...\n",
       "      297    Que se informe a valor CIF de las importacione...\n",
       "Name: Pregunta, dtype: object"
      ]
     },
     "execution_count": 23,
     "metadata": {},
     "output_type": "execute_result"
    }
   ],
   "source": [
    "all_questions.iloc[cercanas].Pregunta"
   ]
  },
  {
   "cell_type": "code",
   "execution_count": 334,
   "metadata": {
    "collapsed": false
   },
   "outputs": [
    {
     "name": "stdout",
     "output_type": "stream",
     "text": [
      "¿Cuáles son las razones por las cuales la Ley Nº 26.586, sancionada en el año 2009, por la que se crea el PROGRAMA NACIONAL DE EDUCACION Y PREVENCION DE LAS ADICCIONES Y EL CONSUMO INDEBIDO DE DROGAS, no ha sido reglamentada? ¿En qué plazo se reglamentará la misma?\n"
     ]
    }
   ],
   "source": [
    "print(preguntas[14])"
   ]
  },
  {
   "cell_type": "code",
   "execution_count": 335,
   "metadata": {
    "collapsed": false
   },
   "outputs": [
    {
     "name": "stdout",
     "output_type": "stream",
     "text": [
      "¿Qué campañas publicitarias tendientes a la prevención del consumo de drogas sintéticas y promoción de la salud de acuerdo a lo establecido en el Artículo 3º de la Ley Nº 23.358, tiene previsto realizar el Poder Ejecutivo Nacional? ¿En qué plazos?\n"
     ]
    }
   ],
   "source": [
    "print(preguntas[15])"
   ]
  },
  {
   "cell_type": "code",
   "execution_count": 364,
   "metadata": {
    "collapsed": false
   },
   "outputs": [
    {
     "name": "stdout",
     "output_type": "stream",
     "text": [
      "- ¿Cuáles son los “cientos de fármacos obsoletos o sin efectividad clínica comprobada dentro de los listados” que informó el PAMI en su comunicado. Cuál o cuáles las enfermedades o dolencias para las cuales son recetados los medicamentos que se excluyeron el 100% de la cobertura.\n",
      "---------------------\n",
      "- ¿Qué implica que los “cientos de fármacos obsoletos o sin efectividad clínica comprobada dentro de los listados” que informó el PAMI en su comunicado  sean obsoletos o sin efectividad? ¿Quién determina dicha obsolescencia o falta de efectividad clínica?\n",
      "=====================\n",
      "Informe la cantidad de empleados del sector privado que aportan a los servicios de Seguridad Social de ANSES que residen en las provincias de Jujuy, Salta, Tucumán, Santiago del Estero y Catamarca, disgregado por departamento, sexo, edad, antigüedad y tamaño del establecimiento.-\n",
      "---------------------\n",
      "Informe la cantidad de Jóvenes beneficiarios del Programa Jóvenes con Más y Mejor Trabajo  que residen en las provincias de Jujuy, Salta, Tucumán, Santiago del Estero y Catamarca, disgregado por departamento, edad y sexo.-\n",
      "=====================\n",
      "- ¿Cuál  es el estado de situación a la fecha sobre la implementación y continuidad del Programa Nacional de Orquestas y Coros Infantiles y Juveniles para el Bicentenario dependiente del Ministerio de Educación y Deporte de la Nación y cuál es la situación del personal a cargo del Programa en las 24 jurisdicciones del país?\n",
      "\n",
      "* ¿Cómo se ha definido el proceso de transferencia de recursos a provincias y municipios y cuáles ya se han puesto en marcha?\n",
      "* ¿Cómo se está garantizando que el personal que se sume a la descentralización del programa sea el mismo que venía cumpliendo ese rol antes de las modificaciones sobre la implementación del mismo?\n",
      "* Informe si se ha procedido a dejar cesante personal y en caso afirmativo cuales han sido las causas.\n",
      "* Informe si se han producido demoras en la renovación de los contratos para el ciclo lectivo 2016. En caso de ser afirmativo indique en qué jurisdicciones y cuáles han sido las razones.\n",
      "*¿Cuáles son los lineamientos del programa y de qué manera se supervisa y coordinan las actividades descentralizadas desde el nivel nacional?\n",
      "* Informe la situación general de la implementación del programa en todo el territorio nacional. Cantidad de niños y niñas participantes, coros y orquestas que están funcionando, docentes contratados, continuidad de los docentes que ya mantenían la relación con los niños y las niñas.\n",
      "* ¿Cuáles son las medidas que se han tomado a nivel nacional y provincial para dar cumplimiento a la mencionada adecuación de la Ley?\n",
      "* ¿Qué proyecto de inversión en infraestructura, formación docente y cobertura de nuevos cargos docentes y administrativos tiene previsto el Poder Ejecutivo Nacional para dar cumplimiento a la norma establecida?\n",
      "---------------------\n",
      "El Programa Nacional de Orquestas y Coros Infantiles y Juveniles para el Bicentenario, dependiente de la Dirección Nacional de Políticas Socioeducativas (DNPS)  reafirma dos objetivos de la política educativa: uno vinculado con la función de la educación de trasmisión de la cultura, y el otro con la necesidad de trabajar con las escuelas para transformarlas y hacerlas mejores. En relación al mismo y dada su importancia para la inclusión educativa, informe:\n",
      "* Cuáles son  las medidas que se han dispuesto acerca de la continuidad del Programa Nacional de Orquestas y Coros Infantiles y Juveniles para el Bicentenario en el Ministerio de Educación y Deporte de la Nación y del personal a cargo del Programa en las 24 jurisdicciones del país.\n",
      "* Informe si se planea realizar algún cambio en el procedimiento de transferencia de recursos financieros para la capacitación del personal, el mantenimiento de los instrumentos musicales y la adquisición de elementos accesorios. En caso de resultar afirmativo, explique las razones y el nuevo procedimiento.\n",
      "* Informe si se ha procedido a dejar cesante personal y en caso afirmativo cuales han sido las causas.\n",
      "* Informe si se han producido demoras en la renovación de los contratos para el ciclo lectivo 2016. En caso de ser afirmativo indique en qué jurisdicciones y cuales han sido las razones.\n",
      "* Informe si se han producido atrasos en el cobro de los haberes del personal. En caso de ser afirmativo indique en qué jurisdicciones y cuales han sido las razones.\n",
      "* Informe si se ha decidido la transferencia de orquestas o coros del bicentenario a alguna provincia o municipio. En caso de resultar afirmativo explique las razones por las cuales se decidió este traspaso.\n",
      "* Informe el mecanismo administrativo empleado para el traspaso, esto es si fue a través de convenios o acuerdos, y detalle los mismos.\n",
      "* Informe las garantías que en dichos acuerdos se plantearon para la continuidad de esta política pública en general y de las fuentes de trabajo en particular.\n",
      "* Informe cual es el plan de formación y capacitación para el corriente año.\n",
      "=====================\n",
      "¿Cuál es el impacto fiscal de las medidas tomadas hasta el momento, a saber:\n",
      "\n",
      "a. Quita de retenciones a diversos productos\n",
      "\n",
      "e. Subsidio a los tambos\n",
      "---------------------\n",
      "¿Cuál es el impacto fiscal de las medidas tomadas hasta el momento, a saber:\n",
      "\n",
      "Quita de subsidios\n",
      "ii. Transporte\n",
      "=====================\n",
      "¿Cuál es el impacto fiscal de las medidas tomadas hasta el momento, a saber:\n",
      "\n",
      "Quita de subsidios\n",
      "ii. Transporte\n",
      "---------------------\n",
      "¿Cuál es el impacto fiscal de las medidas tomadas hasta el momento, a saber:\n",
      "\n",
      "a. Quita de retenciones a diversos productos\n",
      "\n",
      "b. Subsidio al petróleo\n",
      "\n",
      "\n",
      "h. Quita de subsidios\n",
      "\n",
      "i. Eléctricos\n",
      "\n",
      "iii. Gas (antes y después del tope)\n",
      "=====================\n",
      "Indique la recaudación en valores absolutos y relativos de correspondientes a los períodos 2010, 2011, 2012 y 2013, 2014 y 2015. -\n",
      "---------------------\n",
      "Indique el monto de evasión estimada en la recaudación del IVA (Impuesto al Valor Agregado), en valores absolutos y relativos correspondiente a los períodos 2010, 2011, 2012, 2013, 2014 y 2015. Asimismo, explique cuáles son las medidas, acciones o programas implementados por el Poder Ejecutivo Nacional a los efectos de combatir la evasión de dicho tributo. -\n",
      "=====================\n",
      "Sobre la prevención y control de la enfermedad HLB (Huanglongbing o greening de los cítricos): \n",
      "Informe el estado actual de propagación de la enfermedad y/o su vector, detallando las zonas de mayor incidencia.-\n",
      "---------------------\n",
      "Sobre la prevención y control de la enfermedad HLB (Huanglongbing o greening de los cítricos): \n",
      "Indique si existen barreras o cordones fitosanitarios a los efectos prevenir y/o erradicar la propagación de la enfermedad y/o su vector, precisando los lugares y fecha en que se constituyeron y sus correspondientes partidas presupuestarias.-\n",
      "=====================\n",
      "- ¿Cuál  es el aumento previsto en la facturación del año 2016 de los productores de gas natural y las generadoras eléctricas si se aplican en su totalidad los aumentos establecidos desde el mes enero en los servicios púbicos de gas y electricidad?. \n",
      "---------------------\n",
      "- Cuál  es la relación porcentual entre ingreso mensual promedio y facturación mensual promedio en los servicios públicos de gas natural y electricidad discriminada por provincia y por servicio, si se aplicaran en su totalidad los aumentos establecidos desde el mes enero en los servicios púbicos de gas natural y electricidad.\n",
      "=====================\n",
      "Qué medidas establecerá el Poder Ejecutivo para mejorar el turismo  nacional.\n",
      "---------------------\n",
      "Qué medidas adoptará el Poder Ejecutivo para mejorar el turismo receptivo  internacional en el país.\n",
      "=====================\n",
      "- ¿Cuál  es el estado de situación a la fecha sobre la implementación y continuidad del Programa Nacional de Orquestas y Coros Infantiles y Juveniles para el Bicentenario dependiente del Ministerio de Educación y Deporte de la Nación y cuál es la situación del personal a cargo del Programa en las 24 jurisdicciones del país?\n",
      "---------------------\n",
      "- ¿Cuál  es el estado de situación a la fecha sobre la implementación y continuidad del Programa Nacional de Orquestas y Coros Infantiles y Juveniles para el Bicentenario dependiente del Ministerio de Educación y Deporte de la Nación y cuál es la situación del personal a cargo del Programa en las 24 jurisdicciones del país?\n",
      "\n",
      "* ¿Cómo se ha definido el proceso de transferencia de recursos a provincias y municipios y cuáles ya se han puesto en marcha?\n",
      "* ¿Cómo se está garantizando que el personal que se sume a la descentralización del programa sea el mismo que venía cumpliendo ese rol antes de las modificaciones sobre la implementación del mismo?\n",
      "* Informe si se ha procedido a dejar cesante personal y en caso afirmativo cuales han sido las causas.\n",
      "* Informe si se han producido demoras en la renovación de los contratos para el ciclo lectivo 2016. En caso de ser afirmativo indique en qué jurisdicciones y cuáles han sido las razones.\n",
      "*¿Cuáles son los lineamientos del programa y de qué manera se supervisa y coordinan las actividades descentralizadas desde el nivel nacional?\n",
      "* Informe la situación general de la implementación del programa en todo el territorio nacional. Cantidad de niños y niñas participantes, coros y orquestas que están funcionando, docentes contratados, continuidad de los docentes que ya mantenían la relación con los niños y las niñas.\n",
      "* ¿Cuáles son las medidas que se han tomado a nivel nacional y provincial para dar cumplimiento a la mencionada adecuación de la Ley?\n",
      "* ¿Qué proyecto de inversión en infraestructura, formación docente y cobertura de nuevos cargos docentes y administrativos tiene previsto el Poder Ejecutivo Nacional para dar cumplimiento a la norma establecida?\n",
      "=====================\n"
     ]
    }
   ],
   "source": [
    "for n in range(10):\n",
    "    i,j = np.unravel_index(np.argmin(D),D.shape)\n",
    "    D[i,j] = 100\n",
    "    D[j,i] = 100\n",
    "    print(preguntas.iloc[i])\n",
    "    print('---------------------')\n",
    "    print(preguntas.iloc[j])\n",
    "    print('=====================')"
   ]
  },
  {
   "cell_type": "code",
   "execution_count": 341,
   "metadata": {
    "collapsed": false
   },
   "outputs": [
    {
     "data": {
      "text/plain": [
       "u'a)\\tImporte total transferido desde dicha fecha hasta la actualidad por aplicaci\\xf3n de aquellas, especificando el incremento producido en las transferencias diarias por cumplimiento de las resoluciones de la Corte Suprema de Justicia de la Naci\\xf3n.\\nb)\\tEstado de cumplimiento de las sentencias, en cuanto condenaron al Estado Nacional a pagar a la Provincia de San Luis las cantidades detra\\xeddas -con anterioridad al dictado de las mismas- en virtud de las normas impugnadas, con m\\xe1s sus intereses informando, en su caso, si se han determinado los montos y modalidades de pago e informando sobre tal punto.'"
      ]
     },
     "execution_count": 341,
     "metadata": {},
     "output_type": "execute_result"
    }
   ],
   "source": [
    "preguntas.iloc[1]"
   ]
  },
  {
   "cell_type": "code",
   "execution_count": 344,
   "metadata": {
    "collapsed": true
   },
   "outputs": [],
   "source": [
    "import indicoio\n",
    "indicoio.config.api_key = 'cab4e98f91beb5173d3e6bd53319ede3'"
   ]
  },
  {
   "cell_type": "code",
   "execution_count": 351,
   "metadata": {
    "collapsed": false
   },
   "outputs": [
    {
     "name": "stderr",
     "output_type": "stream",
     "text": [
      "/usr/local/lib/python2.7/dist-packages/urllib3/util/ssl_.py:120: InsecurePlatformWarning: A true SSLContext object is not available. This prevents urllib3 from configuring SSL appropriately and may cause certain SSL connections to fail. For more information, see https://urllib3.readthedocs.org/en/latest/security.html#insecureplatformwarning.\n",
      "  InsecurePlatformWarning\n"
     ]
    }
   ],
   "source": [
    "matriz_io = indicoio.text_features(list(preguntas.values))"
   ]
  },
  {
   "cell_type": "code",
   "execution_count": 357,
   "metadata": {
    "collapsed": false
   },
   "outputs": [],
   "source": [
    "matriz_io_a = np.array(matriz_io)"
   ]
  },
  {
   "cell_type": "code",
   "execution_count": 359,
   "metadata": {
    "collapsed": false
   },
   "outputs": [
    {
     "data": {
      "text/plain": [
       "(662, 300)"
      ]
     },
     "execution_count": 359,
     "metadata": {},
     "output_type": "execute_result"
    }
   ],
   "source": []
  },
  {
   "cell_type": "code",
   "execution_count": 365,
   "metadata": {
    "collapsed": true
   },
   "outputs": [],
   "source": [
    "X_train, X_test, y_train, y_test = cross_validation.train_test_split(\n",
    "            preguntas, temas, test_size=0.5, random_state=0)"
   ]
  },
  {
   "cell_type": "code",
   "execution_count": 395,
   "metadata": {
    "collapsed": false
   },
   "outputs": [],
   "source": [
    "entrenamiento = pd.concat((X_train.apply(lambda x: x[:980]), y_train), axis=1)\n",
    "testeo = pd.concat((X_test.apply(lambda x: x[:980]), y_test), axis=1)"
   ]
  },
  {
   "cell_type": "code",
   "execution_count": 396,
   "metadata": {
    "collapsed": false
   },
   "outputs": [],
   "source": [
    "entrenamiento.to_csv('entrenamiento.csv', encoding='utf8',index=False, header=False)\n",
    "testeo.to_csv('testeo.csv', encoding='utf8',index=False, header=False)"
   ]
  },
  {
   "cell_type": "code",
   "execution_count": 392,
   "metadata": {
    "collapsed": false
   },
   "outputs": [
    {
     "data": {
      "text/plain": [
       "345    ¿Cuál es el costo actual del plan Costo del pl...\n",
       "78     Sobre Instituto Nacional de Servicios Sociales...\n",
       "319    Informe sobre una estimación de las pérdidas e...\n",
       "5      Inflación: ¿Cuáles son las medidas monetarias,...\n",
       "607    Según  índices de público conocimiento, las ve...\n",
       "580    En la anterior visita del Jefe de Gabinete sol...\n",
       "404    La Resolución 3878/16 de la AFIP establece un ...\n",
       "482    ¿Cuál es la situación actual de las negociacio...\n",
       "6      Indique la cantidad de empleados públicos naci...\n",
       "171    Informe el detalle discriminado de las transfe...\n",
       "664    - Por  qué motivo el Ministerio de Seguridad d...\n",
       "165    Informe especialmente sobre los despidos en la...\n",
       "606    Recientemente  el Poder Ejecutivo aplicó un 40...\n",
       "671    - Con  respecto al informe “El estado del Esta...\n",
       "23     Señor Jefe de Gabinete: en sus respuestas escr...\n",
       "681    -  La última reforma al Impuesto a las gananci...\n",
       "313    Ante el brote de Gripe A faltan insumos, no ha...\n",
       "321    -¿Por qué (el Ministro de Justicia y Derechos ...\n",
       "307    INFORME DETALLE DE INVERSIONES, PROGRAMAS Y PR...\n",
       "719    Teniendo al Tratado de Maipú, suscripto por la...\n",
       "318    INFORME DETALLE NUEVAS RUTAS DE CABOTAJE QUE S...\n",
       "255    Asimismo, solicitamos se nos informe qué tarea...\n",
       "682    - Informe  cuál de sus siguientes declaracione...\n",
       "357    Teniendo en cuenta que en época de invierno la...\n",
       "150    ¿Qué actitud adoptará su gobierno frente a est...\n",
       "88     Describa los programas o planes de seguimiento...\n",
       "735    Cuál es la cantidad de adolescentes que actual...\n",
       "14     ¿Cuáles son las razones por las cuales la Ley ...\n",
       "400    Informe si dicha política responde a los objet...\n",
       "727    Cuál es el universo de beneficiarios del siste...\n",
       "                             ...                        \n",
       "616    ¿Cómo  continuarán las relaciones diplomáticas...\n",
       "617    ¿Qué  rol puede ocupar nuestro país con el ped...\n",
       "302    En relación al proyecto del Poder Ejecutivo pa...\n",
       "325    Entendiendo que excluyendo las rentas de la pr...\n",
       "468    ¿Cuál es el impacto fiscal de las medidas toma...\n",
       "177    Informe sobre fecha de finalización de obras e...\n",
       "207    Teniendo en cuenta el actual estado de las Uni...\n",
       "121    Informe la cantidad de Jóvenes inscriptos en e...\n",
       "498    ¿Cómo afecta el incremento de tarifas de energ...\n",
       "476    En el mes de agosto pasado, luego de licitació...\n",
       "145    ¿Cuál es el porcentaje de trabajadores activos...\n",
       "76     Sobre Instituto Nacional de Servicios Sociales...\n",
       "610    ¿Cuál  es la explicación que nos puede suminis...\n",
       "737    Cuál es la estimación del Gobierno Nacional re...\n",
       "204    ¿Cuál es el motivo de la demora del envío de f...\n",
       "104    Indique la recaudación en valores absolutos y ...\n",
       "624    * Acuerdo  entre el Ministerio de Seguridad de...\n",
       "541    - Grado de Cumplimiento del Acuerdo de Estabil...\n",
       "351    Informe donde se encuentra definido el program...\n",
       "437    ¿Existen exenciones impositivas a nivel nacion...\n",
       "680    - El  decreto 721/16 delega en los Jefes de lo...\n",
       "525    En qué situación se encuentran los centros de ...\n",
       "74     Sobre Instituto Nacional de Servicios Sociales...\n",
       "679    - El  Gobierno Nacional ejecuto a la fecha men...\n",
       "314    ¿Cuál fue la evolución de la deuda externa lue...\n",
       "10     Atento el aumento nacional de los medicamentos...\n",
       "396    Ustedes consideran que en el segundo semestre ...\n",
       "226    Cuáles son los motivos por los cuales aquellas...\n",
       "713    El Programa Nacional de Orquestas y Coros Infa...\n",
       "632    - ¿Cuál  es el estado, forma y método de cálcu...\n",
       "Name: Pregunta, dtype: object"
      ]
     },
     "execution_count": 392,
     "metadata": {},
     "output_type": "execute_result"
    }
   ],
   "source": [
    "entrenamiento.Pregunta.apply(lambda x: x[:980])"
   ]
  },
  {
   "cell_type": "markdown",
   "metadata": {
    "collapsed": true
   },
   "source": [
    "# Testeos en un corpus estandar\n",
    "\n",
    "Bajado de https://archive.ics.uci.edu/ml/datasets/Twenty+Newsgroups\n"
   ]
  },
  {
   "cell_type": "code",
   "execution_count": 2,
   "metadata": {
    "collapsed": false
   },
   "outputs": [],
   "source": [
    "tv = TfidfVectorizer(input='content', encoding='latin1', decode_error='strict', strip_accents='ascii', \n",
    "                     lowercase=True, preprocessor=None, tokenizer=None, analyzer='word', stop_words=None, \n",
    "                     ngram_range=(1, 1), max_df=1.0, min_df=3, max_features=None, \n",
    "                     vocabulary=None, binary=False, norm='l2', use_idf=True, \n",
    "                     smooth_idf=True, sublinear_tf=False)"
   ]
  },
  {
   "cell_type": "code",
   "execution_count": 3,
   "metadata": {
    "collapsed": false
   },
   "outputs": [],
   "source": [
    "import codecs\n",
    "cats = os.listdir('./test_data/20_newsgroups/')\n",
    "cats_totales = []\n",
    "contenidos = []\n",
    "for cat in cats:\n",
    "    temp_list = os.listdir(os.path.join('./test_data/20_newsgroups/', cat))\n",
    "    cats_totales = cats_totales + [cat]*len(temp_list)\n",
    "    temp_list = map(lambda x: os.path.join('./test_data/20_newsgroups/',cat,x), temp_list)\n",
    "    for filename in temp_list:\n",
    "        with codecs.open(filename, encoding='latin1', mode='r') as content_file:\n",
    "            lines = content_file.readlines()\n",
    "            content = ''.join(lines[11:])\n",
    "        contenidos.append(content)\n"
   ]
  },
  {
   "cell_type": "code",
   "execution_count": 4,
   "metadata": {
    "collapsed": false
   },
   "outputs": [],
   "source": [
    "tfidf_mat = tv.fit_transform(contenidos)"
   ]
  },
  {
   "cell_type": "code",
   "execution_count": 14,
   "metadata": {
    "collapsed": false
   },
   "outputs": [],
   "source": [
    "X_train, X_test, y_train, y_test = cross_validation.train_test_split(\n",
    "                svd_mat, cats_totales, test_size=0.5, random_state=0)"
   ]
  },
  {
   "cell_type": "code",
   "execution_count": 15,
   "metadata": {
    "collapsed": false
   },
   "outputs": [
    {
     "name": "stdout",
     "output_type": "stream",
     "text": [
      "Score correctas: 0.729973\n"
     ]
    }
   ],
   "source": [
    "svm = LinearSVC()\n",
    "svm.fit(X_train,y_train)\n",
    "print \"Score correctas: {:f}\".format(svm.score(X_test,y_test))"
   ]
  },
  {
   "cell_type": "code",
   "execution_count": 8,
   "metadata": {
    "collapsed": false
   },
   "outputs": [],
   "source": [
    "nn = NearestNeighbors(algorithm='kd_tree')"
   ]
  },
  {
   "cell_type": "code",
   "execution_count": 123,
   "metadata": {
    "collapsed": false
   },
   "outputs": [
    {
     "data": {
      "text/plain": [
       "'auto'"
      ]
     },
     "execution_count": 123,
     "metadata": {},
     "output_type": "execute_result"
    }
   ],
   "source": [
    "nn.kneighbors(X_test, )"
   ]
  },
  {
   "cell_type": "code",
   "execution_count": 10,
   "metadata": {
    "collapsed": true
   },
   "outputs": [],
   "source": [
    "from sklearn.decomposition import TruncatedSVD"
   ]
  },
  {
   "cell_type": "code",
   "execution_count": 11,
   "metadata": {
    "collapsed": true
   },
   "outputs": [],
   "source": [
    "tt = TruncatedSVD(n_components=100)"
   ]
  },
  {
   "cell_type": "code",
   "execution_count": 12,
   "metadata": {
    "collapsed": true
   },
   "outputs": [],
   "source": [
    "svd_mat = tt.fit_transform(tfidf_mat)"
   ]
  },
  {
   "cell_type": "code",
   "execution_count": 13,
   "metadata": {
    "collapsed": false
   },
   "outputs": [
    {
     "data": {
      "text/plain": [
       "array([[ 0.13710171, -0.05409748, -0.08087499, ..., -0.02903356,\n",
       "         0.02067871,  0.02060423],\n",
       "       [ 0.18322294, -0.02305735, -0.03651633, ...,  0.01567197,\n",
       "         0.03723891, -0.00134786],\n",
       "       [ 0.20044775, -0.01260446, -0.04811918, ...,  0.01005423,\n",
       "        -0.01316359,  0.01250547],\n",
       "       ..., \n",
       "       [ 0.2322936 ,  0.03845939,  0.00920797, ..., -0.00431266,\n",
       "         0.05547958,  0.0322802 ],\n",
       "       [ 0.2529581 ,  0.11313888, -0.05474577, ..., -0.03139609,\n",
       "         0.00155107,  0.00869457],\n",
       "       [ 0.33897048,  0.17291207, -0.07150881, ..., -0.01301681,\n",
       "         0.02055989,  0.00967401]])"
      ]
     },
     "execution_count": 13,
     "metadata": {},
     "output_type": "execute_result"
    }
   ],
   "source": []
  },
  {
   "cell_type": "code",
   "execution_count": null,
   "metadata": {
    "collapsed": true
   },
   "outputs": [],
   "source": []
  }
 ],
 "metadata": {
  "kernelspec": {
   "display_name": "Python 2",
   "language": "python",
   "name": "python2"
  },
  "language_info": {
   "codemirror_mode": {
    "name": "ipython",
    "version": 2
   },
   "file_extension": ".py",
   "mimetype": "text/x-python",
   "name": "python",
   "nbconvert_exporter": "python",
   "pygments_lexer": "ipython2",
   "version": "2.7.12"
  }
 },
 "nbformat": 4,
 "nbformat_minor": 0
}
