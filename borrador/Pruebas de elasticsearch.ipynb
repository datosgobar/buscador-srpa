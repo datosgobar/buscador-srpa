{
 "cells": [
  {
   "cell_type": "code",
   "execution_count": 55,
   "metadata": {
    "collapsed": true
   },
   "outputs": [],
   "source": [
    "from elasticsearch import Elasticsearch\n",
    "from datetime import datetime\n",
    "import pandas as pd\n",
    "from sklearn import cross_validation\n",
    "from sklearn.svm import LinearSVC\n",
    "import numpy as np\n",
    "es = Elasticsearch()"
   ]
  },
  {
   "cell_type": "code",
   "execution_count": 47,
   "metadata": {
    "collapsed": true
   },
   "outputs": [],
   "source": [
    "# Cargar datos\n",
    "\n",
    "data = pd.read_excel('Informe 93 - HCDN (Respuestas) (1) (1).xlsx',sheetname='Respuestas de formulario 1')\n",
    "gi = ~data.Tema.isnull()\n",
    "gi = gi & (~data.Pregunta.isnull())\n",
    "preguntas = data.Pregunta[gi]\n",
    "temas = data.Tema[gi]\n",
    "Npreg = len(preguntas)\n",
    "\n",
    "# Definir funciones utiles\n",
    "def tfidf(tf, df, N):\n",
    "    \"Calcula el peso tf-idf a partir de las frecuencias.\"\n",
    "    return np.log(1+tf)*np.log(float(N)/df)"
   ]
  },
  {
   "cell_type": "code",
   "execution_count": 109,
   "metadata": {
    "collapsed": false
   },
   "outputs": [
    {
     "data": {
      "text/plain": [
       "{u'acknowledged': True}"
      ]
     },
     "execution_count": 109,
     "metadata": {},
     "output_type": "execute_result"
    }
   ],
   "source": [
    "# Borrar indices en elasticsearch\n",
    "es.indices.delete(index=\"mi_indice\")"
   ]
  },
  {
   "cell_type": "code",
   "execution_count": 10,
   "metadata": {
    "collapsed": true
   },
   "outputs": [],
   "source": [
    "res = es.search(index=\"test-index\", body={\"query\": {\"match_all\": {}}})"
   ]
  },
  {
   "cell_type": "code",
   "execution_count": 39,
   "metadata": {
    "collapsed": false
   },
   "outputs": [
    {
     "name": "stdout",
     "output_type": "stream",
     "text": [
      "Informe las distintas clases de estupefacientes que se elaboran en nuestro país, teniendo en cuenta la información (procesos judiciales) proporcionada por los distintos Juzgados Federales de todo el país y el relevamiento realizado por los Ministerios de Seguridad y Justicia y Derechos Humanos.\n",
      "Discrimine dicha información:\n",
      "-por provincia\n",
      "-por forma de elaboración \n",
      "-por tipo de sustancia\n",
      "-por cuantificación de volumen de cada sustancia\n",
      "¿Cómo ha sido el desarrollo y evolución del tráfico de estupefacientes en los últimos 10 años en nuestro país? Informe por provincia y por tipo de droga.\n"
     ]
    }
   ],
   "source": [
    "print(res['_source']['pregunta'])"
   ]
  },
  {
   "cell_type": "code",
   "execution_count": 111,
   "metadata": {
    "collapsed": false
   },
   "outputs": [],
   "source": [
    "acciones = []\n",
    "for i,preg in enumerate(preguntas):\n",
    "    acciones.append({\"index\" : { \"_index\" : \"mi_indice\", \"_id\" : str(i), \"_type\": \"my_type\"} })\n",
    "    acciones.append({\"pregunta\" : preg})\n",
    "res = es.bulk(acciones)"
   ]
  },
  {
   "cell_type": "code",
   "execution_count": 65,
   "metadata": {
    "collapsed": false
   },
   "outputs": [
    {
     "name": "stdout",
     "output_type": "stream",
     "text": [
      "Déficit Habitacional: ¿Existe algún relevamiento del gobierno nacional respecto del déficit habitacional existente en la República Argentina? \n"
     ]
    }
   ],
   "source": [
    "res = es.get(index=\"mi_indice\", doc_type=\"my_type\", id=\"3\")\n",
    "print(res['_source']['pregunta'])"
   ]
  },
  {
   "cell_type": "code",
   "execution_count": 48,
   "metadata": {
    "collapsed": false
   },
   "outputs": [],
   "source": []
  },
  {
   "cell_type": "code",
   "execution_count": 36,
   "metadata": {
    "collapsed": false
   },
   "outputs": [
    {
     "data": {
      "text/plain": [
       "[3.0242695102770285,\n",
       " 4.4656285520316326,\n",
       " 3.9851755381134311,\n",
       " 2.3891451729052489,\n",
       " 4.4656285520316326,\n",
       " 3.5047225241952296,\n",
       " 2.5438164963588266,\n",
       " 4.4656285520316326,\n",
       " 4.4656285520316326,\n",
       " 5.8709048363072709]"
      ]
     },
     "execution_count": 36,
     "metadata": {},
     "output_type": "execute_result"
    }
   ],
   "source": [
    "temp = res['docs'][3]['term_vectors']['pregunta']['terms'].values()\n",
    "\n",
    "map(lambda x: tfidf(x['term_freq'], x['doc_freq'],  628), temp)"
   ]
  },
  {
   "cell_type": "code",
   "execution_count": 49,
   "metadata": {
    "collapsed": false
   },
   "outputs": [],
   "source": [
    "vocabulario = [k for doc in res['docs'] for k, v in doc['term_vectors']['pregunta']['terms'].iteritems()]"
   ]
  },
  {
   "cell_type": "code",
   "execution_count": 110,
   "metadata": {
    "collapsed": false
   },
   "outputs": [],
   "source": [
    "# Crear un indice en elasticsearch\n",
    "\n",
    "mapeos = {\n",
    "  \"mappings\": {\n",
    "    \"my_type\": {\n",
    "      \"properties\": {\n",
    "        \"pregunta\": { \n",
    "          \"type\": \"string\",\n",
    "          \"term_vector\": \"yes\",\n",
    "          \"analyzer\": \"spanish\",\n",
    "          \"similarity\": \"BM25\",\n",
    "          \"fields\": {\n",
    "            \"raw\": { \n",
    "              \"type\":  \"string\",\n",
    "              \"index\": \"not_analyzed\"\n",
    "            }\n",
    "           }\n",
    "          }\n",
    "        }\n",
    "      }\n",
    "    }\n",
    "  }\n",
    "\n",
    "res = es.indices.create(index=\"mi_indice\",body=mapeos)"
   ]
  },
  {
   "cell_type": "code",
   "execution_count": 32,
   "metadata": {
    "collapsed": false
   },
   "outputs": [],
   "source": [
    "import numpy as np"
   ]
  },
  {
   "cell_type": "code",
   "execution_count": 25,
   "metadata": {
    "collapsed": true
   },
   "outputs": [],
   "source": [
    "from scipy import sparse"
   ]
  },
  {
   "cell_type": "code",
   "execution_count": 26,
   "metadata": {
    "collapsed": true
   },
   "outputs": [],
   "source": []
  },
  {
   "cell_type": "code",
   "execution_count": 113,
   "metadata": {
    "collapsed": false
   },
   "outputs": [],
   "source": [
    "query = {\"docs\": [{\"_id\": str(num), \"term_statistics\": \"true\"} for num in range(len(preguntas))]}\n",
    "res= es.mtermvectors(index=\"mi_indice\", doc_type=\"my_type\", body=query)\n",
    "matrix_tfidf = sparse.csr_matrix((len(preguntas),len(vocabulario)))\n",
    "for idx in range(len(preguntas)):\n",
    "    terminos = res['docs'][idx]['term_vectors']['pregunta']['terms'].keys()\n",
    "    valores =  res['docs'][idx]['term_vectors']['pregunta']['terms'].values()\n",
    "    indices = map(vocabulario.index, terminos)\n",
    "    tfidf_vec = map(lambda x: tfidf(x['term_freq'], x['doc_freq'],  628), valores)\n",
    "    matrix_tfidf[idx,indices] = tfidf_vec"
   ]
  },
  {
   "cell_type": "code",
   "execution_count": 114,
   "metadata": {
    "collapsed": false
   },
   "outputs": [
    {
     "name": "stdout",
     "output_type": "stream",
     "text": [
      "Score correctas: 0.483384\n"
     ]
    }
   ],
   "source": [
    "X_train, X_test, y_train, y_test = cross_validation.train_test_split(\n",
    "                matrix_tfidf, temas, test_size=0.5, random_state=0)\n",
    "svm = LinearSVC()\n",
    "svm.fit(X_train,y_train)\n",
    "print \"Score correctas: {:f}\".format(svm.score(X_test,y_test))"
   ]
  },
  {
   "cell_type": "code",
   "execution_count": 40,
   "metadata": {
    "collapsed": false
   },
   "outputs": [
    {
     "data": {
      "text/plain": [
       "628"
      ]
     },
     "execution_count": 40,
     "metadata": {},
     "output_type": "execute_result"
    }
   ],
   "source": [
    "len(res['docs'])"
   ]
  },
  {
   "cell_type": "code",
   "execution_count": 79,
   "metadata": {
    "collapsed": false
   },
   "outputs": [],
   "source": []
  },
  {
   "cell_type": "code",
   "execution_count": 119,
   "metadata": {
    "collapsed": false
   },
   "outputs": [
    {
     "name": "stdout",
     "output_type": "stream",
     "text": [
      "Para cualquier acción de emergencia y/o plan es necesario disponer de la dinámica de las estadísticas en forma urgente. ¿Cuándo estarán disponibles?\n",
      "===========================================================\n",
      "Respecto al tráfico y contrabando de estupefacientes, informe si nuestro país es de tránsito o de producción. Si fuera de producción: ¿Qué medidas adoptará el Poder Ejecutivo para evitarlo y cuáles serán las acciones necesarias para evitar el contrabando aéreo, terrestre, fluvial o marítimo que existe actualmente?\n",
      "Asimismo, especifique los plazos de ejecución de dicho Plan de acción, si lo hubiere.\n",
      "//////////////////////////////// score:6.2821302\n",
      "Informe perspectivas y plan de acción del Poder Ejecutivo respecto del Plan Nacional de Erradicación de Violencia de Género (ley 26.485) en el presupuesto 2017?\n",
      "//////////////////////////////// score:4.5231733\n",
      "¿Cuándo y de qué forma van a articular los subsidios a los fletes al puerto para las economías regionales, también prometidas dentro del Plan Belgrano?\n",
      "//////////////////////////////// score:4.0758624\n"
     ]
    }
   ],
   "source": [
    "id = 8\n",
    "res = es.get(index=\"mi_indice\", doc_type=\"my_type\", id=str(id))\n",
    "print(res['_source']['pregunta'])\n",
    "print('===========================================================')\n",
    "\n",
    "query = {\n",
    "        \"more_like_this\" : {\n",
    "        \"fields\" : [\"pregunta\"],\n",
    "        \"like\" : [\n",
    "        {\n",
    "            \"_index\" : \"mi_indice\",\n",
    "            \"_type\" : \"my_type\",\n",
    "            \"_id\" : str(id)\n",
    "        }],\n",
    "        \"min_term_freq\" : 1,\n",
    "        \"max_query_terms\" : 25\n",
    "    }}\n",
    "res = es.search(index=\"mi_indice\", doc_type=\"my_type\", body={\"from\" : 0, \"size\" : 3, \"query\": query})\n",
    "\n",
    "for hit in res['hits']['hits']:\n",
    "    print(hit['_source']['pregunta'])\n",
    "    print('//////////////////////////////// score:' + str(hit['_score']))"
   ]
  },
  {
   "cell_type": "code",
   "execution_count": 95,
   "metadata": {
    "collapsed": false
   },
   "outputs": [
    {
     "data": {
      "text/plain": [
       "array([ 68,  69,  70,  71,  72,  73,  74,  75, 150, 347, 477, 478, 480])"
      ]
     },
     "execution_count": 95,
     "metadata": {},
     "output_type": "execute_result"
    }
   ],
   "source": [
    "np.flatnonzero(preguntas.str.find('PAMI')>0)"
   ]
  },
  {
   "cell_type": "code",
   "execution_count": 99,
   "metadata": {
    "collapsed": false
   },
   "outputs": [
    {
     "data": {
      "text/plain": [
       "{u'_id': u'75',\n",
       " u'_index': u'mi_indice',\n",
       " u'_score': 0.28504398,\n",
       " u'_source': {u'pregunta': u'Sobre Instituto Nacional de Servicios Sociales para Jubilados y Pensionados (PAMI): \\nEnuncie la cantidad de ambulancias que posee el PAMI, con indicaci\\xf3n de modelo, a\\xf1o de compra y estado de dichos transportes.-'},\n",
       " u'_type': u'my_type'}"
      ]
     },
     "execution_count": 99,
     "metadata": {},
     "output_type": "execute_result"
    }
   ],
   "source": [
    "hit"
   ]
  },
  {
   "cell_type": "code",
   "execution_count": null,
   "metadata": {
    "collapsed": true
   },
   "outputs": [],
   "source": []
  }
 ],
 "metadata": {
  "kernelspec": {
   "display_name": "Python 2",
   "language": "python",
   "name": "python2"
  },
  "language_info": {
   "codemirror_mode": {
    "name": "ipython",
    "version": 2
   },
   "file_extension": ".py",
   "mimetype": "text/x-python",
   "name": "python",
   "nbconvert_exporter": "python",
   "pygments_lexer": "ipython2",
   "version": "2.7.12"
  }
 },
 "nbformat": 4,
 "nbformat_minor": 0
}
