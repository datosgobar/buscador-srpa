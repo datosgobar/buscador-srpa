{
 "cells": [
  {
   "cell_type": "code",
   "execution_count": 1,
   "metadata": {
    "collapsed": false,
    "run_control": {
     "marked": false
    }
   },
   "outputs": [
    {
     "name": "stderr",
     "output_type": "stream",
     "text": [
      "/home/mec/anaconda2/lib/python2.7/site-packages/matplotlib/font_manager.py:273: UserWarning: Matplotlib is building the font cache using fc-list. This may take a moment.\n",
      "  warnings.warn('Matplotlib is building the font cache using fc-list. This may take a moment.')\n"
     ]
    }
   ],
   "source": [
    "from TextClassifier import TextClassifier\n",
    "import os\n",
    "import numpy as np\n",
    "from matplotlib import pyplot as plt\n",
    "%matplotlib inline"
   ]
  },
  {
   "cell_type": "code",
   "execution_count": 2,
   "metadata": {
    "collapsed": false
   },
   "outputs": [],
   "source": [
    "tc = TextClassifier(['texto dice algo', 'texto dice otra cosa'], ['id1', 'id2'])"
   ]
  },
  {
   "cell_type": "code",
   "execution_count": 3,
   "metadata": {
    "collapsed": false
   },
   "outputs": [],
   "source": [
    "tc.store_text(['nuevo texto', 'algo dice el nuevo'], ['id3','id4'], replace_texts=True)"
   ]
  },
  {
   "cell_type": "code",
   "execution_count": 4,
   "metadata": {
    "collapsed": false
   },
   "outputs": [],
   "source": [
    "tc.make_classifier(\"test\",['id1','id2','id3','id4'],['a', 'a', 'b','b'])"
   ]
  },
  {
   "cell_type": "code",
   "execution_count": 5,
   "metadata": {
    "collapsed": false
   },
   "outputs": [
    {
     "data": {
      "text/plain": [
       "<3x5 sparse matrix of type '<type 'numpy.float64'>'\n",
       "\twith 9 stored elements in Compressed Sparse Row format>"
      ]
     },
     "execution_count": 5,
     "metadata": {},
     "output_type": "execute_result"
    }
   ],
   "source": [
    "indices = np.in1d(tc.ids, ['id1','id2','id4'])\n",
    "indices\n",
    "tc.tfidf_mat[indices,:]"
   ]
  },
  {
   "cell_type": "code",
   "execution_count": 8,
   "metadata": {
    "collapsed": false,
    "scrolled": true
   },
   "outputs": [
    {
     "data": {
      "text/plain": [
       "(array(['a', 'b'], \n",
       "       dtype='|S1'),\n",
       " array([ 5.87072026, -4.9247235 ,  4.99976881,  3.8789758 ]))"
      ]
     },
     "execution_count": 8,
     "metadata": {},
     "output_type": "execute_result"
    }
   ],
   "source": [
    "tc.classify(\"test\", examples=[\"id1\", \"id2\", \"id3\", 'id4'])"
   ]
  },
  {
   "cell_type": "code",
   "execution_count": 7,
   "metadata": {
    "collapsed": false
   },
   "outputs": [],
   "source": [
    "from sklearn.feature_extraction.text import TfidfVectorizer, CountVectorizer, TfidfTransformer\n",
    "textvec_palabras = CountVectorizer(input='content', ngram_range=(1,1),  min_df=1)\n",
    "\n",
    "tfidf_mat = textvec_palabras.fit_transform(['texto dice algo', 'texto dice otra cosa'])"
   ]
  },
  {
   "cell_type": "code",
   "execution_count": 26,
   "metadata": {
    "collapsed": false
   },
   "outputs": [],
   "source": [
    "tfidf_mat = TfidfTransformer().fit_transform(tfidf_mat)"
   ]
  },
  {
   "cell_type": "code",
   "execution_count": 4,
   "metadata": {
    "collapsed": false
   },
   "outputs": [
    {
     "data": {
      "text/plain": [
       "<4x5 sparse matrix of type '<type 'numpy.int64'>'\n",
       "\twith 10 stored elements in Compressed Sparse Row format>"
      ]
     },
     "execution_count": 4,
     "metadata": {},
     "output_type": "execute_result"
    }
   ],
   "source": [
    "np.argsort()"
   ]
  },
  {
   "cell_type": "code",
   "execution_count": 15,
   "metadata": {
    "collapsed": false
   },
   "outputs": [
    {
     "data": {
      "text/plain": [
       "TfidfVectorizer(analyzer=u'word', binary=False, decode_error=u'strict',\n",
       "        dtype=<type 'numpy.int64'>, encoding=u'utf-8', input='content',\n",
       "        lowercase=True, max_df=1.0, max_features=None, min_df=1,\n",
       "        ngram_range=(1, 1), norm='l2', preprocessor=None, smooth_idf=True,\n",
       "        stop_words=None, strip_accents=None, sublinear_tf=False,\n",
       "        token_pattern=u'(?u)\\\\b\\\\w\\\\w+\\\\b', tokenizer=None, use_idf=True,\n",
       "        vocabulary=None)"
      ]
     },
     "execution_count": 15,
     "metadata": {},
     "output_type": "execute_result"
    }
   ],
   "source": [
    "textvec_palabras.fit([\"mi perro es bueno\"])"
   ]
  },
  {
   "cell_type": "code",
   "execution_count": 18,
   "metadata": {
    "collapsed": false
   },
   "outputs": [],
   "source": [
    "textvec_palabras.vocabulary = ['perro', 'algo']"
   ]
  },
  {
   "cell_type": "code",
   "execution_count": 21,
   "metadata": {
    "collapsed": false
   },
   "outputs": [
    {
     "data": {
      "text/plain": [
       "<2x2 sparse matrix of type '<type 'numpy.float64'>'\n",
       "\twith 1 stored elements in Compressed Sparse Row format>"
      ]
     },
     "execution_count": 21,
     "metadata": {},
     "output_type": "execute_result"
    }
   ],
   "source": [
    "textvec_palabras.transform(['texto dice algo', 'texto dice otra cosa'])"
   ]
  },
  {
   "cell_type": "code",
   "execution_count": 20,
   "metadata": {
    "collapsed": false
   },
   "outputs": [
    {
     "data": {
      "text/plain": [
       "TfidfVectorizer(analyzer=u'word', binary=False, decode_error=u'strict',\n",
       "        dtype=<type 'numpy.int64'>, encoding=u'utf-8', input='content',\n",
       "        lowercase=True, max_df=1.0, max_features=None, min_df=1,\n",
       "        ngram_range=(1, 1), norm='l2', preprocessor=None, smooth_idf=True,\n",
       "        stop_words=None, strip_accents=None, sublinear_tf=False,\n",
       "        token_pattern=u'(?u)\\\\b\\\\w\\\\w+\\\\b', tokenizer=None, use_idf=True,\n",
       "        vocabulary=['perro', 'algo'])"
      ]
     },
     "execution_count": 20,
     "metadata": {},
     "output_type": "execute_result"
    }
   ],
   "source": [
    "textvec_palabras.fit(['texto dice algo', 'texto dice otra cosa'])"
   ]
  },
  {
   "cell_type": "code",
   "execution_count": 9,
   "metadata": {
    "collapsed": false,
    "scrolled": true
   },
   "outputs": [
    {
     "data": {
      "text/plain": [
       "[array([u'texto', u'dice', u'algo'], \n",
       "       dtype='<U5'), array([u'texto', u'dice', u'otra', u'cosa'], \n",
       "       dtype='<U5')]"
      ]
     },
     "execution_count": 9,
     "metadata": {},
     "output_type": "execute_result"
    }
   ],
   "source": [
    "textvec_palabras.inverse_transform(tfidf_mat)"
   ]
  },
  {
   "cell_type": "markdown",
   "metadata": {
    "collapsed": true
   },
   "source": [
    "# Pruebas de rendimiento."
   ]
  },
  {
   "cell_type": "code",
   "execution_count": 2,
   "metadata": {
    "collapsed": false
   },
   "outputs": [],
   "source": [
    "# Importo datos de prueba\n",
    "import codecs\n",
    "import time\n",
    "testDir = '/home/mec/testData/textos/20_newsgroups/'\n",
    "cats = os.listdir(testDir)\n",
    "cats_totales = []\n",
    "contenidos = []\n",
    "for cat in cats:\n",
    "    temp_list = os.listdir(os.path.join(testDir, cat))\n",
    "    cats_totales = cats_totales + [cat]*len(temp_list)\n",
    "    temp_list = map(lambda x: os.path.join(testDir,cat,x), temp_list)\n",
    "    for filename in temp_list:\n",
    "        with codecs.open(filename, encoding='latin1', mode='r') as content_file:\n",
    "            lines = content_file.readlines()\n",
    "            content = ''.join(lines[11:])\n",
    "        contenidos.append(content)\n",
    "contenidos = filter(lambda x: len(x)>100, contenidos) # sacar los textos muy cortos"
   ]
  },
  {
   "cell_type": "code",
   "execution_count": 4,
   "metadata": {
    "collapsed": false
   },
   "outputs": [
    {
     "name": "stdout",
     "output_type": "stream",
     "text": [
      "Tardo 0.54 en cargar con 1962 registros\n",
      "Tardo 0.86 en cargar con 3924 registros\n",
      "Tardo 1.21 en cargar con 5886 registros\n",
      "Tardo 1.67 en cargar con 7848 registros\n",
      "Tardo 2.07 en cargar con 9810 registros\n",
      "Tardo 2.53 en cargar con 11772 registros\n",
      "Tardo 3.04 en cargar con 13734 registros\n",
      "Tardo 3.37 en cargar con 15696 registros\n",
      "Tardo 4.05 en cargar con 17658 registros\n"
     ]
    }
   ],
   "source": [
    "# Tiempo de creacion del objeto\n",
    "divs = 10\n",
    "durations = []\n",
    "n_elements = []\n",
    "for i in range(1, divs):\n",
    "    start_time = time.time()\n",
    "    tc = TextClassifier(contenidos[:len(contenidos)/divs*i], [str(j) for j in range(len(contenidos))])\n",
    "    duration = time.time() - start_time\n",
    "    nel = len(contenidos)/divs*i\n",
    "    print(\"Tardo {:1.2f} en cargar con {:d} registros\".format(duration, nel))\n",
    "    durations.append(duration)\n",
    "    n_elements.append(len(contenidos)/divs*i)"
   ]
  },
  {
   "cell_type": "code",
   "execution_count": 7,
   "metadata": {
    "collapsed": false
   },
   "outputs": [
    {
     "data": {
      "text/plain": [
       "<matplotlib.text.Text at 0x7fd4946271d0>"
      ]
     },
     "execution_count": 7,
     "metadata": {},
     "output_type": "execute_result"
    },
    {
     "data": {
      "image/png": "[encoded data removed]",
      "text/plain": [
       "<matplotlib.figure.Figure at 0x7fd4946c3490>"
      ]
     },
     "metadata": {},
     "output_type": "display_data"
    }
   ],
   "source": [
    "# Grafico de lo anterior\n",
    "\n",
    "plt.plot(n_elements,durations,'o')\n",
    "plt.xlabel(\"Cantidad de textos\")\n",
    "plt.ylabel(\"Tiempo de creacion del objeto [s]\")\n"
   ]
  },
  {
   "cell_type": "code",
   "execution_count": 3,
   "metadata": {
    "collapsed": false
   },
   "outputs": [
    {
     "name": "stdout",
     "output_type": "stream",
     "text": [
      "Ocupo 19.56 en cargar con 1962 registros\n",
      "Ocupo 42.84 en cargar con 3924 registros\n",
      "Ocupo 59.73 en cargar con 5886 registros\n",
      "Ocupo 86.39 en cargar con 7848 registros\n",
      "Ocupo 104.68 en cargar con 9810 registros\n",
      "Ocupo 130.41 en cargar con 11772 registros\n",
      "Ocupo 149.58 en cargar con 13734 registros\n",
      "Ocupo 176.97 en cargar con 15696 registros\n",
      "Ocupo 207.53 en cargar con 17658 registros\n"
     ]
    }
   ],
   "source": [
    "# Memoria de creacion del objeto\n",
    "import cPickle\n",
    "divs = 10\n",
    "memory = []\n",
    "n_elements = []\n",
    "for i in range(1, divs):\n",
    "    tc = TextClassifier(contenidos[:len(contenidos)/divs*i], [str(j) for j in range(len(contenidos))])\n",
    "    L = len(cPickle.dumps(tc))\n",
    "    memory.append(L)\n",
    "    nel = len(contenidos)/divs*i\n",
    "    print(\"Ocupo {:1.2f} en cargar con {:d} registros\".format(float(L)/1024/1024, nel))\n",
    "    n_elements.append(len(contenidos)/divs*i)"
   ]
  },
  {
   "cell_type": "code",
   "execution_count": 4,
   "metadata": {
    "collapsed": false
   },
   "outputs": [
    {
     "data": {
      "text/plain": [
       "<matplotlib.text.Text at 0x7ff765130990>"
      ]
     },
     "execution_count": 4,
     "metadata": {},
     "output_type": "execute_result"
    },
    {
     "data": {
      "image/png": "[encoded data removed]",
      "text/plain": [
       "<matplotlib.figure.Figure at 0x7ff7660b5150>"
      ]
     },
     "metadata": {},
     "output_type": "display_data"
    }
   ],
   "source": [
    "# Grafico de lo anterior\n",
    "\n",
    "plt.plot(n_elements, np.array(memory)/1024/1024,'o')\n",
    "plt.xlabel(\"Cantidad de textos\")\n",
    "plt.ylabel(\"Peso del objeto [MB]\")\n"
   ]
  },
  {
   "cell_type": "code",
   "execution_count": 22,
   "metadata": {
    "collapsed": false
   },
   "outputs": [
    {
     "name": "stdout",
     "output_type": "stream",
     "text": [
      "              total        used        free      shared  buff/cache   available\n",
      "Mem:        3959496     2515836      250568      797244     1193092      371632\n",
      "Swap:       4106236     1522036     2584200\n"
     ]
    }
   ],
   "source": [
    "%%bash\n",
    "free"
   ]
  },
  {
   "cell_type": "code",
   "execution_count": 24,
   "metadata": {
    "collapsed": false
   },
   "outputs": [
    {
     "name": "stdout",
     "output_type": "stream",
     "text": [
      "              total        used        free      shared  buff/cache   available\n",
      "Mem:        3959496     2418684      331356      812832     1209456      453152\n",
      "Swap:       4106236     1521992     2584244\n"
     ]
    }
   ],
   "source": [
    "%%bash\n",
    "free"
   ]
  },
  {
   "cell_type": "code",
   "execution_count": null,
   "metadata": {
    "collapsed": true
   },
   "outputs": [],
   "source": []
  }
 ],
 "metadata": {
  "kernelspec": {
   "display_name": "Python [Root]",
   "language": "python",
   "name": "Python [Root]"
  },
  "language_info": {
   "codemirror_mode": {
    "name": "ipython",
    "version": 2
   },
   "file_extension": ".py",
   "mimetype": "text/x-python",
   "name": "python",
   "nbconvert_exporter": "python",
   "pygments_lexer": "ipython2",
   "version": "2.7.12"
  }
 },
 "nbformat": 4,
 "nbformat_minor": 0
}
